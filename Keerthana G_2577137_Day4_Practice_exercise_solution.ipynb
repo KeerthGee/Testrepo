{
 "cells": [
  {
   "cell_type": "markdown",
   "id": "e23d4b8e",
   "metadata": {},
   "source": [
    "# 1.Write a python program with Exception handling to input marks for five subjects Physics, Chemistry, Biology, Mathematics, and Computer. Calculate the percentage and grade according to the following:\n",
    "\n",
    "i) Percentage >= 90%: Grade A\n",
    "\n",
    "ii) Percentage >= 80%: Grade B\n",
    "\n",
    "Percentage >= 70%: Grade C\n",
    "\n",
    "iv) Percentage >= 60%: Grade D\n",
    "\n",
    "v) Percentage >= 40%: Grade E\n",
    "\n",
    "vi) Percentage <40%: Grade F"
   ]
  },
  {
   "cell_type": "code",
   "execution_count": 1,
   "id": "2bc73a89",
   "metadata": {},
   "outputs": [
    {
     "name": "stdout",
     "output_type": "stream",
     "text": [
      "Enter Physics marks: 85\n",
      "Enter Chemistry marks: 90\n",
      "Enter Biology marks: 98\n",
      "Enter Mathematics marks: 80\n",
      "Enter Computer marks: 99\n",
      "Percentage: 90.40%\n",
      "Grade: A\n"
     ]
    }
   ],
   "source": [
    "try:\n",
    "    physics = float(input(\"Enter Physics marks: \"))\n",
    "    chemistry = float(input(\"Enter Chemistry marks: \"))\n",
    "    biology = float(input(\"Enter Biology marks: \"))\n",
    "    mathematics = float(input(\"Enter Mathematics marks: \"))\n",
    "    computer = float(input(\"Enter Computer marks: \"))\n",
    "    \n",
    "    total_marks = physics + chemistry + biology + mathematics + computer\n",
    "    percentage = (total_marks / 500) * 100\n",
    "    \n",
    "    if percentage >= 90:\n",
    "        grade = \"A\"\n",
    "    elif percentage >= 80:\n",
    "        grade = \"B\"\n",
    "    elif percentage >= 70:\n",
    "        grade = \"C\"\n",
    "    elif percentage >= 60:\n",
    "        grade = \"D\"\n",
    "    elif percentage >= 40:\n",
    "        grade = \"E\"\n",
    "    else:\n",
    "        grade = \"F\"\n",
    "        \n",
    "    print(f\"Percentage: {percentage:.2f}%\")\n",
    "    print(f\"Grade: {grade}\")\n",
    "\n",
    "except ValueError:\n",
    "    print(\"Invalid input. Please enter valid numerical marks for each subject.\")\n",
    "except Exception as e:\n",
    "    print(f\"An error occurred: {str(e)}\")"
   ]
  },
  {
   "cell_type": "markdown",
   "id": "69f067d6",
   "metadata": {},
   "source": [
    "# 2. Write a python program with Exception handling to input electricity unit charges and calculate the total electricity bill according to the given condition:\n",
    "\n",
    "i) For the first 50 units Rs. 0.50/unit\n",
    "\n",
    "ii) For the next 100 units Rs. 0.75/unit\n",
    "\n",
    "For the next 100 units Rs. 1.20/unit\n",
    "\n",
    "iv) For units above 250 Rs. 1.50/unit\n",
    "\n",
    "v) An additional surcharge of 20% is added to the bill.\n"
   ]
  },
  {
   "cell_type": "code",
   "execution_count": 2,
   "id": "b658f182",
   "metadata": {},
   "outputs": [
    {
     "name": "stdout",
     "output_type": "stream",
     "text": [
      "Enter electricity unit charges: 120\n",
      "Total Electricity Bill: Rs. 93.00\n"
     ]
    }
   ],
   "source": [
    "while True:\n",
    "    try:\n",
    "        units = float(input(\"Enter electricity unit charges: \"))\n",
    "\n",
    "        if units < 0:\n",
    "            raise ValueError(\"Electricity units cannot be negative.\")\n",
    "\n",
    "        total_bill = 0\n",
    "        surcharge_percentage = 20\n",
    "\n",
    "        if units <= 50:\n",
    "            total_bill = units * 0.50\n",
    "        elif units <= 150:\n",
    "            total_bill = 50 * 0.50 + (units - 50) * 0.75\n",
    "        elif units <= 250:\n",
    "            total_bill = 50 * 0.50 + 100 * 0.75 + (units - 150) * 1.20\n",
    "        else:\n",
    "            total_bill = 50 * 0.50 + 100 * 0.75 + 100 * 1.20 + (units - 250) * 1.50\n",
    "\n",
    "        surcharge_amount = (surcharge_percentage / 100) * total_bill\n",
    "\n",
    "        total_bill += surcharge_amount\n",
    "\n",
    "        print(f\"Total Electricity Bill: Rs. {total_bill:.2f}\")\n",
    "\n",
    "        break\n",
    "\n",
    "    except ValueError as ve:\n",
    "        print(f\"Invalid input: {ve}. Please enter valid numerical unit charges.\")\n",
    "    except Exception as e:\n",
    "        print(f\"An error occurred: {str(e)}\")"
   ]
  },
  {
   "cell_type": "markdown",
   "id": "6775e21a",
   "metadata": {},
   "source": [
    "# 3. Write a python program with Exception handling to input the week number and print the weekday."
   ]
  },
  {
   "cell_type": "code",
   "execution_count": 3,
   "id": "27a444df",
   "metadata": {},
   "outputs": [
    {
     "name": "stdout",
     "output_type": "stream",
     "text": [
      "Enter the week number (1-7): 5\n",
      "Weekday for week number 5 is Friday\n"
     ]
    }
   ],
   "source": [
    "while True:\n",
    "    try:\n",
    "        week_number = int(input(\"Enter the week number (1-7): \"))\n",
    "\n",
    "        if week_number < 1 or week_number > 7:\n",
    "            raise ValueError(\"Week number should be between 1 and 7.\")\n",
    "\n",
    "        weekdays = [\"Monday\", \"Tuesday\", \"Wednesday\", \"Thursday\", \"Friday\", \"Saturday\", \"Sunday\"]\n",
    "\n",
    "        print(f\"Weekday for week number {week_number} is {weekdays[week_number - 1]}\")\n",
    "\n",
    "        break\n",
    "\n",
    "    except ValueError as ve:\n",
    "        print(f\"Invalid input: {ve}. Please enter a valid week number (1-7).\")\n",
    "    except Exception as e:\n",
    "        print(f\"An error occurred: {str(e)}\")"
   ]
  },
  {
   "cell_type": "markdown",
   "id": "647f4f3c",
   "metadata": {},
   "source": [
    "# 4. Write a Python program to implement word count using command line arguments.\n",
    "\n",
    "i)Create a text document \"apple.txt\" whch contains text for wordcount.\n",
    "ii)Create a wordcount program which calls the \"apple.txt\" document by opening the file.\n",
    "iii)If the word is present again in the \"aaple.txt\",the wordcount is incremented by 1 until all the words are counted in the document.\n",
    "iv) Close the file.\n",
    "v) Create a command.py program which imports the wordcount.py program.\n",
    "Vi) count the number of words using command line arguments \n",
    "Vii) print each word and it's count."
   ]
  },
  {
   "cell_type": "code",
   "execution_count": null,
   "id": "3f5e4ff5",
   "metadata": {},
   "outputs": [],
   "source": [
    "# wordcount.py\n",
    "\n",
    "def count_words(filename):\n",
    "    word_count = {}\n",
    "    with open(filename, 'r') as file:\n",
    "        for line in file:\n",
    "            words = line.split()\n",
    "            for word in words:\n",
    "                word = word.strip()\n",
    "                if word:\n",
    "                    if word in word_count:\n",
    "                        word_count[word] += 1\n",
    "                    else:\n",
    "                        word_count[word] = 1\n",
    "    return word_count\n",
    "\n",
    "if __name__ == \"__main__\":\n",
    "    import sys\n",
    "    if len(sys.argv) != 2:\n",
    "        print(\"Usage: python wordcount.py apple.txt\")\n",
    "    else:\n",
    "        filename = sys.argv[1]\n",
    "        word_count = count_words(filename)\n",
    "        for word, count in word_count.items():\n",
    "            print(f\"{word}: {count}\")\n",
    "\n",
    "\n",
    "python\n",
    "# command.py\n",
    "\n",
    "import sys\n",
    "from wordcount import count_words\n",
    "\n",
    "if len(sys.argv) != 2:\n",
    "    print(\"Usage: python command.py apple.txt\")\n",
    "else:\n",
    "    filename = sys.argv[1]\n",
    "    word_count = count_words(filename)\n",
    "    for word, count in word_count.items():\n",
    "        print(f\"{word}: {count}\")\n",
    "\n",
    "\n",
    "python command.py apple.txt\n"
   ]
  },
  {
   "cell_type": "markdown",
   "id": "7024e543",
   "metadata": {},
   "source": [
    "# 5.Write a Python program for finding the most frequent words in a text read from a file .\n",
    "\n",
    "i) Initially open the text file in read mode.\n",
    "\n",
    "ii) Make all the letters in the document into lowercase letters and split the words in each line.\n",
    "\n",
    "iii) Get the words in an order.\n",
    "\n",
    "iv) Sort the words for finding the most frequent words in the file."
   ]
  },
  {
   "cell_type": "code",
   "execution_count": 7,
   "id": "4ea8be4b",
   "metadata": {},
   "outputs": [
    {
     "name": "stdout",
     "output_type": "stream",
     "text": [
      "The 10 most frequent words in 'source.txt' are:\n",
      "species: 4 times\n",
      "are: 3 times\n",
      "and: 3 times\n",
      "to: 2 times\n",
      "the: 2 times\n",
      "with: 2 times\n",
      "about: 2 times\n",
      "in: 2 times\n",
      "2: 2 times\n",
      "endangered: 2 times\n"
     ]
    }
   ],
   "source": [
    "import re\n",
    "from collections import Counter\n",
    "\n",
    "def most_frequent_words(source_file, num_words):\n",
    "    try:\n",
    "        with open(source_file, 'r') as file:\n",
    "            content = file.read().lower()\n",
    "            words = re.findall(r'\\w+', content)\n",
    "            word_counts = Counter(words)\n",
    "            most_common_words = word_counts.most_common(num_words)\n",
    "\n",
    "            return most_common_words\n",
    "\n",
    "    except FileNotFoundError:\n",
    "        print(f\"Error: File not found - {source_file}\")\n",
    "    except Exception as e:\n",
    "        print(f\"Error: {e}\")\n",
    "\n",
    "source_file = \"source.txt\"\n",
    "num_words = 10\n",
    "most_common_words = most_frequent_words(source_file, num_words)\n",
    "\n",
    "print(f\"The {num_words} most frequent words in '{source_file}' are:\")\n",
    "for word, count in most_common_words:\n",
    "    print(f\"{word}: {count} times\")"
   ]
  },
  {
   "cell_type": "markdown",
   "id": "92cade03",
   "metadata": {},
   "source": [
    "# 6.File Processing with Command-Line Arguments- Scenario: You are developing a command-line utility that processes text files. Users can specify input and output file paths as command-line arguments. Your program should handle exceptions gracefully.\n",
    "\n",
    "i. Design a Python program that takes two command-line arguments: the input file path and the output file path. Ensure that the program checks if both arguments are provided and that the input file exists.\n",
    "\n",
    "ii. Implement error handling to deal with scenarios such as missing input files, invalid file paths, or permission issues when writing to the output file.\n",
    "\n",
    "If an error occurs during file processing, display a user-friendly error message, and exit the program with a non-zero exit code.\n",
    "\n",
    "iv. Write test cases that cover various scenarios, including providing valid and invalid file paths as command-line arguments."
   ]
  },
  {
   "cell_type": "code",
   "execution_count": null,
   "id": "21317deb",
   "metadata": {},
   "outputs": [],
   "source": [
    "import sys\n",
    "\n",
    "def process_text_file(input_file_path, output_file_path):\n",
    "    try:\n",
    "        if not input_file_path or not output_file_path:\n",
    "            raise ValueError(\"Both input and output file paths are required.\")\n",
    "        try:\n",
    "            with open(input_file_path, 'r') as input_file:\n",
    "                data = input_file.read()\n",
    "        except FileNotFoundError:\n",
    "            raise FileNotFoundError(f\"Input file '{input_file_path}' not found.\")\n",
    "        \n",
    "        with open(output_file_path, 'w') as output_file:\n",
    "            output_file.write(data)\n",
    "        \n",
    "        print(f\"File processing complete. Output written to '{output_file_path}'\")\n",
    "    except Exception as e:\n",
    "        print(f\"Error: {str(e)}\")\n",
    "        sys.exit(1)\n",
    "\n",
    "if __name__ == \"__main__\":\n",
    "    if len(sys.argv) != 3:\n",
    "        print(\"Usage: python program.py <input_file_path> <output_file_path>\")\n",
    "        sys.exit(1)\n",
    "    \n",
    "    input_file_path = sys.argv[1]\n",
    "    output_file_path = sys.argv[2]\n",
    "    \n",
    "    process_text_file(input_file_path, output_file_path)\n"
   ]
  }
 ],
 "metadata": {
  "kernelspec": {
   "display_name": "Python 3 (ipykernel)",
   "language": "python",
   "name": "python3"
  },
  "language_info": {
   "codemirror_mode": {
    "name": "ipython",
    "version": 3
   },
   "file_extension": ".py",
   "mimetype": "text/x-python",
   "name": "python",
   "nbconvert_exporter": "python",
   "pygments_lexer": "ipython3",
   "version": "3.11.4"
  }
 },
 "nbformat": 4,
 "nbformat_minor": 5
}
