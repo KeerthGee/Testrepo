{
 "cells": [
  {
   "cell_type": "markdown",
   "id": "a33e7712",
   "metadata": {},
   "source": [
    "# 1. Module Import and Management\n",
    "\n",
    "Scenario: You are developing a complex Python project with multiple modules. To manage the project effectively, you need to import and use various modules. Additionally, you want to organize your code using namespaces and avoid naming conflicts.\n",
    "\n",
    "Design a Python program that demonstrates the following:\n",
    "\n",
    "1. Import multiple modules within your project.\n",
    "\n",
    "2. Use the import statement to access functions, classes, and variables from imported modules.\n",
    "\n",
    "3. Create your custom module and use it in your main program.\n",
    "\n",
    "4. Handle naming conflicts and ensure proper namespacing\n",
    "\n",
    "5. Implement error handling for missing modules or incorrect module usage."
   ]
  },
  {
   "cell_type": "code",
   "execution_count": 6,
   "id": "820b9bca",
   "metadata": {},
   "outputs": [
    {
     "name": "stdout",
     "output_type": "stream",
     "text": [
      "Error: Product ID not found in the catalog\n",
      "Error: Product ID not found in the catalog\n",
      "Product ID: 123, Quantity: 2\n",
      "Thank you for shopping with us!\n"
     ]
    }
   ],
   "source": [
    "class ProductCatalog:\n",
    "    def __init__(self):\n",
    "        self.products = {}  # Dictionary to store product ID and stock quantity\n",
    "\n",
    "    def add_product(self, product_id, stock_quantity):\n",
    "        # Add a product to the catalog\n",
    "        self.products[product_id] = stock_quantity\n",
    "\n",
    "    def find_product(self, product_id):\n",
    "        # Find a product in the catalog\n",
    "        if product_id in self.products:\n",
    "            return self.products[product_id]\n",
    "        else:\n",
    "            raise ValueError(\"Product ID not found in the catalog\")\n",
    "\n",
    "class ShoppingCart:\n",
    "    def __init__(self):\n",
    "        self.cart = {}  # Dictionary to store cart items and quantities\n",
    "\n",
    "    def add_item(self, product_id, quantity, catalog):\n",
    "        try:\n",
    "            stock_quantity = catalog.find_product(product_id)\n",
    "            if quantity <= 0 or not isinstance(quantity, int):\n",
    "                raise ValueError(\"Invalid quantity. Please enter a positive integer.\")\n",
    "            if stock_quantity < quantity:\n",
    "                raise ValueError(\"Insufficient stock for this item.\")\n",
    "            if product_id in self.cart:\n",
    "                self.cart[product_id] += quantity\n",
    "            else:\n",
    "                self.cart[product_id] = quantity\n",
    "        except ValueError as e:\n",
    "            print(f\"Error: {e}\")\n",
    "\n",
    "    def view_cart(self):\n",
    "        try:\n",
    "            if not self.cart:\n",
    "                raise ValueError(\"Cart is empty.\")\n",
    "            for product_id, quantity in self.cart.items():\n",
    "                print(f\"Product ID: {product_id}, Quantity: {quantity}\")\n",
    "        except ValueError as e:\n",
    "            print(f\"Error: {e}\")\n",
    "\n",
    "    def checkout(self):\n",
    "        try:\n",
    "            # Process payment, validate cart, and other checkout logic\n",
    "            # Handle payment gateway errors and customer payment method declined here\n",
    "            # ...\n",
    "\n",
    "            # If checkout is successful, update stock quantities in the catalog\n",
    "            # ...\n",
    "\n",
    "            # Clear the cart after a successful checkout\n",
    "            self.cart = {}\n",
    "        except Exception as e:\n",
    "            print(f\"Error during checkout: {e}\")\n",
    "        finally:\n",
    "            print(\"Thank you for shopping with us!\")\n",
    "\n",
    "# Example usage:\n",
    "\n",
    "# Initialize the product catalog\n",
    "catalog = ProductCatalog()\n",
    "catalog.add_product(\"123\", 10)\n",
    "\n",
    "# Initialize the shopping cart\n",
    "cart = ShoppingCart()\n",
    "\n",
    "# Scenario 1: Adding items to the cart\n",
    "cart.add_item(\"123\", 2, catalog)  # Valid case\n",
    "cart.add_item(\"456\", -1, catalog)  # Invalid quantity\n",
    "cart.add_item(\"789\", 5, catalog)  # Product not in catalog\n",
    "\n",
    "# Scenario 2: Viewing cart contents\n",
    "cart.view_cart()  # Should display the cart items\n",
    "\n",
    "# Scenario 3: Proceeding to checkout\n",
    "cart.checkout()  # Handle payment gateway errors and more"
   ]
  },
  {
   "cell_type": "markdown",
   "id": "1bcf5317",
   "metadata": {},
   "source": [
    "# 2.create a python function that checks if two given strings are anagrams of each other."
   ]
  },
  {
   "cell_type": "code",
   "execution_count": 2,
   "id": "6b820fb9",
   "metadata": {},
   "outputs": [
    {
     "name": "stdout",
     "output_type": "stream",
     "text": [
      "Enter the first string: cat\n",
      "Enter the second string: act\n",
      "'cat' and 'act' are anagrams.\n"
     ]
    }
   ],
   "source": [
    "def are_anagrams(str1, str2):\n",
    "    \n",
    "    str1 = str1.replace(\" \", \"\").lower()\n",
    "    str2 = str2.replace(\" \", \"\").lower()\n",
    "\n",
    "    # Check if the sorted versions of the strings are equal\n",
    "    return sorted(str1) == sorted(str2)\n",
    "\n",
    "# Ask the user for input\n",
    "string1 = input(\"Enter the first string: \")\n",
    "string2 = input(\"Enter the second string: \")\n",
    "\n",
    "# Check if the provided strings are anagrams\n",
    "result = are_anagrams(string1, string2)\n",
    "\n",
    "# Display the result\n",
    "if result:\n",
    "    print(f\"'{string1}' and '{string2}' are anagrams.\")\n",
    "else:\n",
    "    print(f\"'{string1}' and '{string2}' are not anagrams.\")"
   ]
  },
  {
   "cell_type": "markdown",
   "id": "8f8e4d70",
   "metadata": {},
   "source": [
    "# 3. create a python function that checks if two given strings are anagrams of each other."
   ]
  },
  {
   "cell_type": "code",
   "execution_count": 4,
   "id": "ee04314a",
   "metadata": {},
   "outputs": [
    {
     "name": "stdout",
     "output_type": "stream",
     "text": [
      "Enter the first string: City of stars.\n",
      "Enter the second string: Are you shining just for me.\n",
      "'City of stars.' and 'Are you shining just for me.' are not anagrams.\n"
     ]
    }
   ],
   "source": [
    "def are_anagrams(str1, str2):\n",
    "    \n",
    "    str1 = str1.replace(\" \", \"\").lower()\n",
    "    str2 = str2.replace(\" \", \"\").lower()\n",
    "\n",
    "    # Check if the sorted versions of the strings are equal\n",
    "    return sorted(str1) == sorted(str2)\n",
    "\n",
    "# Ask the user for input\n",
    "string1 = input(\"Enter the first string: \")\n",
    "string2 = input(\"Enter the second string: \")\n",
    "\n",
    "# Check if the provided strings are anagrams\n",
    "result = are_anagrams(string1, string2)\n",
    "\n",
    "# Display the result\n",
    "if result:\n",
    "    print(f\"'{string1}' and '{string2}' are anagrams.\")\n",
    "else:\n",
    "    print(f\"'{string1}' and '{string2}' are not anagrams.\")"
   ]
  },
  {
   "cell_type": "markdown",
   "id": "c1c2a323",
   "metadata": {},
   "source": [
    "# 4. Case Study: Online Bookstore Database Connectivity\n",
    "\n",
    "You are a Python developer working on the backend of an online bookstore website. The website's database stores information about books, customers, orders, and inventory. Your task is to develop and maintain the database connectivity and interaction components.\n",
    "\n",
    "Requirements and Scenarios:\n",
    "\n",
    "Scenario 1-Customer Registration:\n",
    "\n",
    "When a new customer registers on the website, their information (name, email, password) should be stored in the database.\n",
    "\n",
    "Handle exceptions that may occur during the registration process, such as:\n",
    "\n",
    "1. Duplicate email addresses.\n",
    "\n",
    "2. Database connection errors.\n",
    "\n",
    "Scenario 2-Book Inventory Management:\n",
    "\n",
    "Implement functionality to add new books to the inventory, update existing book details, and delete books.\n",
    "\n",
    "Handle exceptions that may occur during these operations, such as:\n",
    "\n",
    "1. Invalid book data.\n",
    "\n",
    "2. Database errors when updating or deleting books.\n",
    "\n",
    "Scenario 3-Customer Orders:\n",
    "\n",
    "Allow customers to place orders for books. Each order includes customer details and a list of ordered books.\n",
    "\n",
    "Handle exceptions that may occur during order placement, such as:\n",
    "\n",
    "1. Insufficient stock for some books.\n",
    "2. Database errors when recording orders\n",
    "Scenario \n",
    "\n",
    "4-Order History:\n",
    "\n",
    "Customers should be able to view their order history, which includes details of past orders.\n",
    "\n",
    "Handle exceptions that may occur when retrieving order history, such as:\n",
    "\n",
    "1. No orders found for the customer.\n",
    "\n",
    "2. Database connection issues. \n",
    " \n",
    "YOur tasks :\n",
    "\n",
    "1. Review the existing database interaction code to identify potential areas where exceptions may occur.\n",
    "\n",
    "2. Enhance the exception handling in the code by adding appropriate try, except, and finally blocks to handle exceptions gracefully. Provide helpful error messages to the user where applicable.\n",
    "\n",
    "3. Ensure that the program continues to run smoothly even when exceptions occur, and customers receive informative feedback.\n",
    "\n",
    "4. Implement database queries and transactions following best practices to maintain data integrity.\n",
    "\n",
    "5. Test the website's database interactions thoroughly with different scenarios to ensure that it handles exceptions correctly.\n"
   ]
  },
  {
   "cell_type": "code",
   "execution_count": 5,
   "id": "ffa46747",
   "metadata": {},
   "outputs": [
    {
     "name": "stdout",
     "output_type": "stream",
     "text": [
      "Enter your name: minch\n",
      "Enter your email: minchj@gmail.com\n",
      "Enter your password: 123456\n",
      "Registration successful!\n"
     ]
    }
   ],
   "source": [
    "import mysql.connector\n",
    "\n",
    "try:\n",
    "    db = mysql.connector.connect(\n",
    "        host=\"127.0.0.1\",\n",
    "        user=\"root\",\n",
    "        password=\"HK_may\",\n",
    "        database=\"email\"\n",
    "    )\n",
    "    cursor = db.cursor()\n",
    "\n",
    "    # User input for registration\n",
    "    name = input(\"Enter your name: \")\n",
    "    email = input(\"Enter your email: \")\n",
    "    password = input(\"Enter your password: \")\n",
    "\n",
    "    # Check if the email is already registered\n",
    "    cursor.execute(\"SELECT * FROM customers WHERE email = %s\", (email,))\n",
    "    existing_user = cursor.fetchone()\n",
    "\n",
    "    if existing_user:\n",
    "        print(\"Email address is already registered.\")\n",
    "    else:\n",
    "        # Insert new customer into Customers table\n",
    "        cursor.execute(\"INSERT INTO customers (name, email, password) VALUES (%s, %s, %s)\", (name, email, password))\n",
    "        db.commit()\n",
    "        print(\"Registration successful!\")\n",
    "\n",
    "except mysql.connector.Error as e:\n",
    "    print(\"MySQL Error:\", e)\n",
    "except Exception as e:\n",
    "    print(\"Error:\", e)\n",
    "finally:\n",
    "    db.close()"
   ]
  },
  {
   "cell_type": "code",
   "execution_count": 8,
   "id": "24df5565",
   "metadata": {},
   "outputs": [
    {
     "name": "stdout",
     "output_type": "stream",
     "text": [
      "Book added to inventory successfully!\n",
      "Book added to inventory successfully!\n",
      "Book added to inventory successfully!\n"
     ]
    }
   ],
   "source": [
    "def add_book(title, author, price, stock_quantity):\n",
    "    try:\n",
    "        # Establish a database connection\n",
    "        db = mysql.connector.connect(\n",
    "        host=\"127.0.0.1\",\n",
    "        user=\"root\",\n",
    "        password=\"HK_may\",\n",
    "        database=\"email\"\n",
    "        )\n",
    "\n",
    "        # Create a cursor object\n",
    "        cursor = db.cursor()\n",
    "\n",
    "        # Insert the new book into the Books table\n",
    "        cursor.execute(\"INSERT INTO Books (title, author, price, stock_quantity) VALUES (%s, %s, %s, %s)\",\n",
    "                       (title, author, price, stock_quantity))\n",
    "        db.commit()\n",
    "        print(\"Book added to inventory successfully!\")\n",
    "\n",
    "    except mysql.connector.Error as e:\n",
    "        print(\"MySQL Error:\", e)\n",
    "    except Exception as e:\n",
    "        print(\"Error:\", e)\n",
    "    #finally:\n",
    "        # Close the database connection\n",
    "        #db.close()\n",
    "        \n",
    "add_book(\"On Earth We're Briefly Gorgeous\", \"Ocean Vuong\", 70, 12)\n",
    "add_book(\"Night sky with exit wounds\", \"Ocean Vuong\", 280, 1)\n",
    "add_book(\"time is a mother\", \"Ocean Vuong\", 250, 8)"
   ]
  },
  {
   "cell_type": "code",
   "execution_count": 9,
   "id": "2186bae0",
   "metadata": {},
   "outputs": [
    {
     "name": "stdout",
     "output_type": "stream",
     "text": [
      "(\"On Earth We're Briefly Gorgeous\", 'Ocean Vuong', 70, 12)\n",
      "('Night sky with exit wounds', 'Ocean Vuong', 280, 1)\n",
      "('time is a mother', 'Ocean Vuong', 250, 8)\n",
      "(\"On Earth We're Briefly Gorgeous\", 'Ocean Vuong', 70, 12)\n",
      "('Night sky with exit wounds', 'Ocean Vuong', 280, 1)\n",
      "('time is a mother', 'Ocean Vuong', 250, 8)\n"
     ]
    }
   ],
   "source": [
    "db = mysql.connector.connect(\n",
    "        host=\"127.0.0.1\",\n",
    "        user=\"root\",\n",
    "        password=\"HK_may\",\n",
    "        database=\"email\"\n",
    "        )\n",
    "cursor = db.cursor()\n",
    "cursor.execute(\"select * from books\")\n",
    "for i in cursor:\n",
    "    print(i)"
   ]
  },
  {
   "cell_type": "code",
   "execution_count": 13,
   "id": "23edc0c0",
   "metadata": {},
   "outputs": [
    {
     "name": "stdout",
     "output_type": "stream",
     "text": [
      "6\n",
      "Book details updated successfully!\n"
     ]
    }
   ],
   "source": [
    "#Update books.\n",
    "cursor = db.cursor()\n",
    "\n",
    "cursor.execute(\"UPDATE Books SET author = 'OCEAN VOUNG'\")\n",
    "db.commit()\n",
    "print(cursor.rowcount)\n",
    "print(\"Book details updated successfully!\")"
   ]
  },
  {
   "cell_type": "code",
   "execution_count": 14,
   "id": "b7fee1e6",
   "metadata": {},
   "outputs": [
    {
     "name": "stdout",
     "output_type": "stream",
     "text": [
      "(\"On Earth We're Briefly Gorgeous\", 'OCEAN VOUNG', 70, 12)\n",
      "('Night sky with exit wounds', 'OCEAN VOUNG', 280, 1)\n",
      "('time is a mother', 'OCEAN VOUNG', 250, 8)\n",
      "(\"On Earth We're Briefly Gorgeous\", 'OCEAN VOUNG', 70, 12)\n",
      "('Night sky with exit wounds', 'OCEAN VOUNG', 280, 1)\n",
      "('time is a mother', 'OCEAN VOUNG', 250, 8)\n"
     ]
    }
   ],
   "source": [
    "cursor = db.cursor()\n",
    "cursor.execute(\"select * from books\")\n",
    "for i in cursor:\n",
    "    print(i)"
   ]
  },
  {
   "cell_type": "code",
   "execution_count": 15,
   "id": "fd3f480d",
   "metadata": {},
   "outputs": [
    {
     "name": "stdout",
     "output_type": "stream",
     "text": [
      "6\n",
      "Book details deleted successfully!\n"
     ]
    }
   ],
   "source": [
    "#Delete books.\n",
    "cursor = db.cursor()\n",
    "\n",
    "cursor.execute(\"Delete from books\")\n",
    "db.commit()\n",
    "print(cursor.rowcount)\n",
    "print(\"Book details deleted successfully!\")"
   ]
  },
  {
   "cell_type": "code",
   "execution_count": null,
   "id": "19ea8425",
   "metadata": {},
   "outputs": [],
   "source": [
    "#Scenario 3\n",
    "\n",
    "import mysql.connector\n",
    "\n",
    "try:\n",
    "    db = mysql.connector.connect(\n",
    "        host=\"127.0.0.1\",\n",
    "        user=\"root\",\n",
    "        password=\"HK_may\",\n",
    "        database=\"email\"\n",
    "    )\n",
    "\n",
    "    # Create a cursor object\n",
    "    cursor = db.cursor()\n",
    "\n",
    "    # User input for order\n",
    "    customer_id = int(input(\"Enter your customer ID: \"))\n",
    "    book_id = int(input(\"Enter the book ID you want to order: \"))\n",
    "    quantity = int(input(\"Enter the quantity: \"))\n",
    "\n",
    "    # Check if there is enough stock\n",
    "    cursor.execute(\"SELECT quantity FROM novel WHERE book_id = %s\", (book_id,))\n",
    "    stock_quantity = cursor.fetchone()[0]\n",
    "\n",
    "    if quantity > stock_quantity:\n",
    "        print(\"Insufficient stock for this book.\")\n",
    "    else:\n",
    "        # Calculate total amount and insert order\n",
    "        cursor.execute(\"SELECT price FROM novel WHERE book_id = %s\", (book_id,))\n",
    "        price = cursor.fetchone()[0]\n",
    "        total_amount = price * quantity\n",
    "\n",
    "        cursor.execute(\"INSERT INTO bookOrders (customer_id, order_date, total_amount) VALUES (%s, NOW(), %s)\",\n",
    "                       (customer_id, total_amount))\n",
    "        order_id = cursor.lastrowid\n",
    "        cursor.execute(\"INSERT INTO bookOrderDetails (order_id, book_id, quantity, subtotal) VALUES (%s, %s, %s, %s)\",\n",
    "                       (order_id, book_id, quantity, total_amount))\n",
    "        db.commit()\n",
    "        print(\"Order placed successfully!\")\n",
    "\n",
    "except mysql.connector.Error as e:\n",
    "    print(\"MySQL Error:\", e)\n",
    "except Exception as e:\n",
    "    print(\"Error:\", e)\n",
    "finally:\n",
    "    # Close the database connection\n",
    "    db.close()"
   ]
  },
  {
   "cell_type": "code",
   "execution_count": null,
   "id": "d04ffee5",
   "metadata": {},
   "outputs": [],
   "source": [
    "#scenario 4: order history\n",
    "import mysql.connector\n",
    "\n",
    "try:\n",
    "    db = mysql.connector.connect(\n",
    "        host=\"127.0.0.1\",\n",
    "        user=\"root\",\n",
    "        password=\"HK_may\",\n",
    "        database=\"email\"\n",
    "    )\n",
    "\n",
    "    cursor = db.cursor()\n",
    "\n",
    "    customer_id = int(input(\"Enter your customer ID: \"))\n",
    "\n",
    "    cursor.execute(\"SELECT bookOrders.order_id, order_date, Books.title, quantity, subtotal FROM Customers \"\n",
    "                   \"JOIN bookOrders ON Customers.customer_id = bookOrders.customer_id \"\n",
    "                   \"JOIN bookOrderDetails ON bookOrders.order_id = bookOrderDetails.order_id \"\n",
    "                   \"JOIN Books ON bookOrderDetails.book_id = Books.book_id \"\n",
    "                   \"WHERE Customers.customer_id = %s\", (customer_id,))\n",
    "    order_history = cursor.fetchall()\n",
    "\n",
    "    if not order_history:\n",
    "        print(\"No orders found for this customer.\")\n",
    "    else:\n",
    "        print(\"Order History:\")\n",
    "        for order in order_history:\n",
    "            order_id, order_date, book_title, quantity, subtotal = order\n",
    "            print(f\"Order ID: {order_id}, Date: {order_date}, Book: {book_title}, Quantity: {quantity}, Subtotal: {subtotal}\")\n",
    "\n",
    "except mysql.connector.Error as e:\n",
    "    print(\"MySQL Error:\", e)\n",
    "except Exception as e:\n",
    "    print(\"Error:\", e)\n",
    "finally:\n",
    "    db.close()"
   ]
  },
  {
   "cell_type": "markdown",
   "id": "fbae19ce",
   "metadata": {},
   "source": [
    "# 6. Read a text file containing a list of names or numbers, sort the data, and write the sorted data back to a new file."
   ]
  },
  {
   "cell_type": "code",
   "execution_count": null,
   "id": "0f72e3e0",
   "metadata": {},
   "outputs": [],
   "source": [
    "input_file_name = \"unsorted_data.txt\"\n",
    "with open(input_file_name, \"r\") as file:\n",
    "    # Read the lines from the file and store them in a list\n",
    "    data = file.read().splitlines()\n",
    "\n",
    "# Sort the data\n",
    "data.sort()\n",
    "\n",
    "# Open a new file for writing the sorted data\n",
    "output_file_name = \"sorted_data.txt\"\n",
    "with open(output_file_name, \"w\") as file:\n",
    "    # Write the sorted data to the new file\n",
    "    for item in data:\n",
    "        file.write(item + \"\\n\")\n",
    "\n",
    "print(\"Data sorted and written to\", output_file_name)"
   ]
  },
  {
   "cell_type": "markdown",
   "id": "1e37dba1",
   "metadata": {},
   "source": [
    "# 7. Write a Python script that compares two text files and identifies the differences between them, including added, modified, and deleted lines."
   ]
  },
  {
   "cell_type": "code",
   "execution_count": 9,
   "id": "d2b9cd95",
   "metadata": {},
   "outputs": [
    {
     "name": "stdout",
     "output_type": "stream",
     "text": [
      "Differences identified and saved to added_lines.txt, modified_lines.txt, and deleted_lines.txt\n"
     ]
    }
   ],
   "source": [
    "import difflib\n",
    "\n",
    "def read_file(file_path):\n",
    "    with open(file_path, \"r\") as file:\n",
    "        return file.readlines()\n",
    "\n",
    "file1_path = \"file1.txt\"\n",
    "file2_path = \"file2.txt\"\n",
    "\n",
    "file1_lines = read_file(file1_path)\n",
    "file2_lines = read_file(file2_path)\n",
    "\n",
    "differ = difflib.Differ()\n",
    "diff = list(differ.compare(file1_lines, file2_lines))\n",
    "\n",
    "added_lines = []\n",
    "modified_lines = []\n",
    "deleted_lines = []\n",
    "\n",
    "for line in diff:\n",
    "    if line.startswith('+ '):\n",
    "        added_lines.append(line)\n",
    "    elif line.startswith('- '):\n",
    "        deleted_lines.append(line)\n",
    "    elif line.startswith('? '):\n",
    "        modified_lines.append(line)\n",
    "\n",
    "with open(\"added_lines.txt\", \"w\") as added_file:\n",
    "    added_file.writelines(added_lines)\n",
    "\n",
    "with open(\"modified_lines.txt\", \"w\") as modified_file:\n",
    "    modified_file.writelines(modified_lines)\n",
    "\n",
    "with open(\"deleted_lines.txt\", \"w\") as deleted_file:\n",
    "    deleted_file.writelines(deleted_lines)\n",
    "\n",
    "print(\"Differences identified and saved to added_lines.txt, modified_lines.txt, and deleted_lines.txt\")"
   ]
  },
  {
   "cell_type": "markdown",
   "id": "64a08508",
   "metadata": {},
   "source": [
    "# 8.Develop a Python program that compresses a large text file using a compression algorithm (e.g., gzip) and then decompresses it back to its original form."
   ]
  },
  {
   "cell_type": "code",
   "execution_count": 10,
   "id": "cbe22df2",
   "metadata": {},
   "outputs": [
    {
     "name": "stdout",
     "output_type": "stream",
     "text": [
      "File \"large_text_file.txt\" compressed to \"compressed_file.gz\"\n",
      "File \"compressed_file.gz\" decompressed to \"decompressed_large_text_file.txt\"\n"
     ]
    }
   ],
   "source": [
    "import gzip\n",
    "import shutil\n",
    "\n",
    "def compress_file(input_file, output_file):\n",
    "    with open(input_file, 'rb') as f_in:\n",
    "        with gzip.open(output_file, 'wb') as f_out:\n",
    "            shutil.copyfileobj(f_in, f_out)\n",
    "\n",
    "def decompress_file(input_file, output_file):\n",
    "    with gzip.open(input_file, 'rb') as f_in:\n",
    "        with open(output_file, 'wb') as f_out:\n",
    "            shutil.copyfileobj(f_in, f_out)\n",
    "\n",
    "input_file_path = 'large_text_file.txt'\n",
    "compressed_file_path = 'compressed_file.gz'\n",
    "decompressed_file_path = 'decompressed_large_text_file.txt'\n",
    "\n",
    "compress_file(input_file_path, compressed_file_path)\n",
    "print(f'File \"{input_file_path}\" compressed to \"{compressed_file_path}\"')\n",
    "\n",
    "decompress_file(compressed_file_path, decompressed_file_path)\n",
    "print(f'File \"{compressed_file_path}\" decompressed to \"{decompressed_file_path}\"')\n"
   ]
  },
  {
   "cell_type": "markdown",
   "id": "b2af25a8",
   "metadata": {},
   "source": [
    "# 9. Read a binary file (e.g., an image or audio file) in Python and perform an operation, such as resizing an image or modifying audio data."
   ]
  },
  {
   "cell_type": "code",
   "execution_count": 1,
   "id": "ba2be427",
   "metadata": {},
   "outputs": [
    {
     "name": "stdout",
     "output_type": "stream",
     "text": [
      "Image resized and saved to resized_image.jpg\n"
     ]
    }
   ],
   "source": [
    "from PIL import Image\n",
    "\n",
    "image_path = \"the_lion_king.jpg\"\n",
    "image = Image.open(image_path)\n",
    "\n",
    "# Define the new size (width, height)\n",
    "new_size = (300, 200)\n",
    "\n",
    "# Resize the image\n",
    "resized_image = image.resize(new_size)\n",
    "\n",
    "# Save the resized image to a new file\n",
    "resized_image_path = \"resized_image.jpg\"\n",
    "resized_image.save(resized_image_path)\n",
    "\n",
    "print(f\"Image resized and saved to {resized_image_path}\")\n"
   ]
  },
  {
   "cell_type": "markdown",
   "id": "94caf74b",
   "metadata": {},
   "source": [
    "# 10. Write a python program to Combine the contents of multiple text files into a single file using Python. Each file should be appended to the end of the resulting file."
   ]
  },
  {
   "cell_type": "code",
   "execution_count": 1,
   "id": "259d4be0",
   "metadata": {},
   "outputs": [
    {
     "name": "stdout",
     "output_type": "stream",
     "text": [
      "Contents of 3 files combined into combined_file.txt\n"
     ]
    }
   ],
   "source": [
    "# List of input text files to be combined\n",
    "input_files = [\"f1.txt\", \"f2.txt\", \"f3.txt\"]\n",
    "\n",
    "# Output file where the contents will be combined\n",
    "output123_file = \"combined_file.txt\"\n",
    "\n",
    "try:\n",
    "    with open(output123_file, 'a') as output:\n",
    "        for input_file in input_files:\n",
    "            with open(input_file, 'r') as input:\n",
    "                output.write(input.read())\n",
    "                output.write('\\n')  # Add a newline between the contents of each file\n",
    "    print(f\"Contents of {len(input_files)} files combined into {output123_file}\")\n",
    "except FileNotFoundError:\n",
    "    print(\"One or more input files not found.\")\n",
    "except Exception as e:\n",
    "    print(f\"An error occurred: {str(e)}\")"
   ]
  },
  {
   "cell_type": "markdown",
   "id": "8667be5a",
   "metadata": {},
   "source": [
    "# 11. Create a Python script that accepts a text file as a command-line argument and counts the number of words, lines, and characters in the file."
   ]
  },
  {
   "cell_type": "code",
   "execution_count": null,
   "id": "b8566440",
   "metadata": {},
   "outputs": [],
   "source": [
    "import argparse\n",
    "\n",
    "# Function to count words, lines, and characters in a file\n",
    "def count_file_stats(file_path):\n",
    "    try:\n",
    "        with open(file_path, 'r') as file:\n",
    "            content = file.read()\n",
    "\n",
    "            # Count words by splitting on whitespace and removing empty strings\n",
    "            words = [word for word in content.split() if word]\n",
    "\n",
    "            # Count lines by splitting on newline characters\n",
    "            lines = content.splitlines()\n",
    "\n",
    "            # Count characters\n",
    "            characters = len(content)\n",
    "\n",
    "            return len(words), len(lines), characters\n",
    "\n",
    "    except FileNotFoundError:\n",
    "        print(f\"File not found: {file_path}\")\n",
    "        return None\n",
    "\n",
    "def main():\n",
    "    # Create an ArgumentParser to handle command-line arguments\n",
    "    parser = argparse.ArgumentParser(description=\"Count words, lines, and characters in a text file.\")\n",
    "    parser.add_argument(\"file\", help=\"Path to the input text file\")\n",
    "\n",
    "    # Parse the command-line arguments\n",
    "    args = parser.parse_args()\n",
    "\n",
    "    # Count words, lines, and characters in the specified file\n",
    "    result = count_file_stats(args.file)\n",
    "\n",
    "    if result is not None:\n",
    "        words, lines, characters = result\n",
    "        print(f\"Word count: {words}\")\n",
    "        print(f\"Line count: {lines}\")\n",
    "        print(f\"Character count: {characters}\")\n",
    "\n",
    "if __name__ == \"__main__\":\n",
    "    main()\n",
    "\n",
    "    \n",
    "    \n",
    "    \n",
    "# python count_file_stats.py file_path.txt\n"
   ]
  },
  {
   "cell_type": "markdown",
   "id": "dcb2e419",
   "metadata": {},
   "source": [
    "# 12. Build a command-line calculator that accepts a mathematical expression as a string argument and evaluates it, then prints the result. "
   ]
  },
  {
   "cell_type": "code",
   "execution_count": null,
   "id": "174aef73",
   "metadata": {},
   "outputs": [],
   "source": [
    "import argparse\n",
    "\n",
    "def calculate(expression):\n",
    "    try:\n",
    "        result = eval(expression)\n",
    "        return result\n",
    "    except Exception as e:\n",
    "        return f\"Error: {str(e)}\"\n",
    "\n",
    "def main():\n",
    "    parser = argparse.ArgumentParser(description=\"Command-line calculator\")\n",
    "    parser.add_argument(\"expression\", help=\"Mathematical expression to evaluate\")\n",
    "\n",
    "    args = parser.parse_args()\n",
    "\n",
    "    expression = args.expression\n",
    "    result = calculate(expression)\n",
    "\n",
    "    if isinstance(result, (int, float)):\n",
    "        print(f\"Result: {result}\")\n",
    "    else:\n",
    "        print(result)\n",
    "\n",
    "if __name__ == \"__main__\":\n",
    "    main()\n",
    "\n",
    "    \n",
    "    \n",
    "#python calculator.py \"2 + 2\"\n"
   ]
  },
  {
   "cell_type": "markdown",
   "id": "71bc4ad9",
   "metadata": {},
   "source": [
    "# 13. Implement a Python script that takes a CSV file and two column names as command-line arguments. The script should calculate the average of values in one column and store the result in another column in the same file."
   ]
  },
  {
   "cell_type": "code",
   "execution_count": null,
   "id": "2a6fd7a7",
   "metadata": {},
   "outputs": [],
   "source": [
    "import argparse\n",
    "import pandas as pd\n",
    "\n",
    "def calculate_average(input_file, output_file, input_column, output_column):\n",
    "    try:\n",
    "        # Read the CSV file into a pandas DataFrame\n",
    "        df = pd.read_csv(input_file)\n",
    "\n",
    "        # Calculate the average of the specified column\n",
    "        average = df[input_column].mean()\n",
    "\n",
    "        # Add a new column with the calculated average\n",
    "        df[output_column] = average\n",
    "\n",
    "        # Write the modified DataFrame back to the CSV file\n",
    "        df.to_csv(output_file, index=False)\n",
    "\n",
    "        print(f\"Average calculated and stored in column '{output_column}' of {output_file}\")\n",
    "\n",
    "    except FileNotFoundError:\n",
    "        print(f\"File not found: {input_file}\")\n",
    "    except Exception as e:\n",
    "        print(f\"An error occurred: {str(e)}\")\n",
    "\n",
    "def main():\n",
    "    parser = argparse.ArgumentParser(description=\"Calculate average and store in CSV\")\n",
    "    parser.add_argument(\"input_file\", help=\"Path to the input CSV file\")\n",
    "    parser.add_argument(\"output_file\", help=\"Path to the output CSV file\")\n",
    "    parser.add_argument(\"input_column\", help=\"Name of the input column to calculate average from\")\n",
    "    parser.add_argument(\"output_column\", help=\"Name of the output column to store the average\")\n",
    "\n",
    "    args = parser.parse_args()\n",
    "\n",
    "    input_file = args.input_file\n",
    "    output_file = args.output_file\n",
    "    input_column = args.input_column\n",
    "    output_column = args.output_column\n",
    "\n",
    "    calculate_average(input_file, output_file, input_column, output_column)\n",
    "\n",
    "if __name__ == \"__main__\":\n",
    "    main()\n",
    "\n",
    "\n",
    "    \n",
    "#python calculate_average.py input.csv output.csv input_column output_column\n"
   ]
  },
  {
   "cell_type": "markdown",
   "id": "b108faeb",
   "metadata": {},
   "source": [
    "# 14. Write a Python script that takes two integer command-line arguments and prints their sum."
   ]
  },
  {
   "cell_type": "code",
   "execution_count": null,
   "id": "61afdf8b",
   "metadata": {},
   "outputs": [],
   "source": [
    "import argparse\n",
    "\n",
    "def add_numbers(num1, num2):\n",
    "    return num1 + num2\n",
    "\n",
    "def main():\n",
    "    parser = argparse.ArgumentParser(description=\"Add two integers\")\n",
    "    parser.add_argument(\"num1\", type=int, help=\"First integer\")\n",
    "    parser.add_argument(\"num2\", type=int, help=\"Second integer\")\n",
    "\n",
    "    args = parser.parse_args()\n",
    "\n",
    "    result = add_numbers(args.num1, args.num2)\n",
    "\n",
    "    print(f\"The sum of {args.num1} and {args.num2} is: {result}\")\n",
    "\n",
    "if __name__ == \"__main__\":\n",
    "    main()\n",
    "\n",
    "    \n",
    "#python add_numbers.py 5 7\n"
   ]
  },
  {
   "cell_type": "markdown",
   "id": "acf54240",
   "metadata": {},
   "source": [
    "# 15. Create a custom Python module that includes functions to calculate the factorial of a number and to check if a number is prime. Import and use this module in another Python script."
   ]
  },
  {
   "cell_type": "code",
   "execution_count": null,
   "id": "bec096ad",
   "metadata": {},
   "outputs": [],
   "source": [
    "# mymath.py\n",
    "\n",
    "def factorial(n):\n",
    "    if n == 0:\n",
    "        return 1\n",
    "    else:\n",
    "        return n * factorial(n - 1)\n",
    "\n",
    "def is_prime(n):\n",
    "    if n <= 1:\n",
    "        return False\n",
    "    elif n <= 3:\n",
    "        return True\n",
    "    elif n % 2 == 0 or n % 3 == 0:\n",
    "        return False\n",
    "    i = 5\n",
    "    while i * i <= n:\n",
    "        if n % i == 0 or n % (i + 2) == 0:\n",
    "            return False\n",
    "        i += 6\n",
    "    return True\n",
    "\n",
    "\n",
    "\n",
    "# main.py\n",
    "\n",
    "import mymath\n",
    "\n",
    "# Calculate the factorial of a number\n",
    "num = 5\n",
    "fact_result = mymath.factorial(num)\n",
    "print(f\"Factorial of {num} is {fact_result}\")\n",
    "\n",
    "# Check if a number is prime\n",
    "prime_num = 17\n",
    "is_prime_result = mymath.is_prime(prime_num)\n",
    "if is_prime_result:\n",
    "    print(f\"{prime_num} is prime\")\n",
    "else:\n",
    "    print(f\"{prime_num} is not prime\")\n",
    "\n",
    "    \n",
    "    \n",
    "#python main.py\n"
   ]
  },
  {
   "cell_type": "markdown",
   "id": "34128747",
   "metadata": {},
   "source": [
    "# 16. Create a Python module named calculator.py that contains functions for each of the four operations (addition, subtraction, multiplication, and division). Each function should take two arguments, perform the respective operation, and return the result."
   ]
  },
  {
   "cell_type": "code",
   "execution_count": null,
   "id": "62eea743",
   "metadata": {},
   "outputs": [],
   "source": [
    "# calculator.py\n",
    "\n",
    "def add(x, y):\n",
    "    return x + y\n",
    "\n",
    "def subtract(x, y):\n",
    "    return x - y\n",
    "\n",
    "def multiply(x, y):\n",
    "    return x * y\n",
    "\n",
    "def divide(x, y):\n",
    "    if y == 0:\n",
    "        raise ValueError(\"Division by zero is not allowed.\")\n",
    "    return x / y\n",
    "\n",
    "\n",
    "# main.py\n",
    "\n",
    "import calculator\n",
    "\n",
    "# Perform calculations using the functions from calculator.py\n",
    "result_addition = calculator.add(5, 3)\n",
    "result_subtraction = calculator.subtract(10, 4)\n",
    "result_multiplication = calculator.multiply(7, 2)\n",
    "result_division = calculator.divide(8, 2)\n",
    "\n",
    "# Print the results\n",
    "print(f\"Addition: {result_addition}\")\n",
    "print(f\"Subtraction: {result_subtraction}\")\n",
    "print(f\"Multiplication: {result_multiplication}\")\n",
    "print(f\"Division: {result_division}\")\n",
    "\n",
    "\n",
    "#python main.py\n"
   ]
  },
  {
   "cell_type": "code",
   "execution_count": null,
   "id": "a7b99524",
   "metadata": {},
   "outputs": [],
   "source": []
  }
 ],
 "metadata": {
  "kernelspec": {
   "display_name": "Python 3 (ipykernel)",
   "language": "python",
   "name": "python3"
  },
  "language_info": {
   "codemirror_mode": {
    "name": "ipython",
    "version": 3
   },
   "file_extension": ".py",
   "mimetype": "text/x-python",
   "name": "python",
   "nbconvert_exporter": "python",
   "pygments_lexer": "ipython3",
   "version": "3.11.4"
  }
 },
 "nbformat": 4,
 "nbformat_minor": 5
}
