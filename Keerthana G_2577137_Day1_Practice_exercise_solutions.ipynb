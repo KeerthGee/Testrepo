{
 "cells": [
  {
   "cell_type": "markdown",
   "id": "074af771",
   "metadata": {},
   "source": [
    "# 1. Manipulate using a list.\n",
    "i) To add new elements to the end of the list.\n",
    "ii) To reverse elements in the list.\n",
    "iii) To display the same list of elements multiple times.\n",
    "iv) To concatenate two lists.\n",
    "v) To sort the elements in the list in ascending order."
   ]
  },
  {
   "cell_type": "code",
   "execution_count": 1,
   "id": "9087343c",
   "metadata": {},
   "outputs": [
    {
     "data": {
      "text/plain": [
       "['a', 'b', 'c', 'd', 8, 9, 68, 73]"
      ]
     },
     "execution_count": 1,
     "metadata": {},
     "output_type": "execute_result"
    }
   ],
   "source": [
    "list = ['a','b','c','d',8,9,68,73]\n",
    "list\n"
   ]
  },
  {
   "cell_type": "code",
   "execution_count": 2,
   "id": "e30f8043",
   "metadata": {},
   "outputs": [
    {
     "data": {
      "text/plain": [
       "['a', 'b', 'c', 'd', 8, 9, 68, 73, 91, 'l']"
      ]
     },
     "execution_count": 2,
     "metadata": {},
     "output_type": "execute_result"
    }
   ],
   "source": [
    "#i) To add new elements to the end of the list.\n",
    "\n",
    "list.append(91) #to add single element to the list.\n",
    "\n",
    "list.extend('l') #to add multiple elements to the list.\n",
    "list"
   ]
  },
  {
   "cell_type": "code",
   "execution_count": 3,
   "id": "906d2f4c",
   "metadata": {},
   "outputs": [
    {
     "data": {
      "text/plain": [
       "['l', 91, 73, 68, 9, 8, 'd', 'c', 'b', 'a']"
      ]
     },
     "execution_count": 3,
     "metadata": {},
     "output_type": "execute_result"
    }
   ],
   "source": [
    "#ii) To reverse elements in the list.\n",
    "\n",
    "list.reverse()\n",
    "list\n"
   ]
  },
  {
   "cell_type": "code",
   "execution_count": 4,
   "id": "628cc45c",
   "metadata": {},
   "outputs": [
    {
     "data": {
      "text/plain": [
       "['l',\n",
       " 91,\n",
       " 73,\n",
       " 68,\n",
       " 9,\n",
       " 8,\n",
       " 'd',\n",
       " 'c',\n",
       " 'b',\n",
       " 'a',\n",
       " 'l',\n",
       " 91,\n",
       " 73,\n",
       " 68,\n",
       " 9,\n",
       " 8,\n",
       " 'd',\n",
       " 'c',\n",
       " 'b',\n",
       " 'a',\n",
       " 'l',\n",
       " 91,\n",
       " 73,\n",
       " 68,\n",
       " 9,\n",
       " 8,\n",
       " 'd',\n",
       " 'c',\n",
       " 'b',\n",
       " 'a']"
      ]
     },
     "execution_count": 4,
     "metadata": {},
     "output_type": "execute_result"
    }
   ],
   "source": [
    "#iii) To display the same list of elements multiple times.\n",
    "\n",
    "list = list*3\n",
    "list\n",
    "\n"
   ]
  },
  {
   "cell_type": "code",
   "execution_count": 5,
   "id": "69082d94",
   "metadata": {},
   "outputs": [
    {
     "name": "stdout",
     "output_type": "stream",
     "text": [
      "Concatenated list:\n",
      "['apple', 'Banana', 'Cucumber', 'Dill']\n"
     ]
    }
   ],
   "source": [
    "#iv) To concatenate two lists.\n",
    "\n",
    "list1 = ['apple','Banana'] \n",
    "list2 = ['Cucumber','Dill'] \n",
    "\n",
    "\n",
    "res = list1 + list2 \n",
    "\n",
    "\n",
    "print (\"Concatenated list:\\n\" + str(res))"
   ]
  },
  {
   "cell_type": "code",
   "execution_count": 6,
   "id": "fd477531",
   "metadata": {},
   "outputs": [
    {
     "data": {
      "text/plain": [
       "[1, 5, 6, 8, 9]"
      ]
     },
     "execution_count": 6,
     "metadata": {},
     "output_type": "execute_result"
    }
   ],
   "source": [
    "#v) To sort the elements in the list in ascending order.\n",
    "\n",
    "list = [9,6,8,5,1]\n",
    "list.sort()\n",
    "list"
   ]
  },
  {
   "cell_type": "markdown",
   "id": "e0c8200f",
   "metadata": {},
   "source": [
    "# 2. Write a python program to do in the tuples.\n",
    "i) Manipulate using tuples.\n",
    "ii) To add new elements to the end of the tuples.\n",
    "iii) To reverse elements in the list.\n",
    "iv) To display the elements of the same tuple multiple times.\n",
    "v) To concatenate two tuples.\n",
    "vi) To sort the elements in the list in ascending order."
   ]
  },
  {
   "cell_type": "code",
   "execution_count": 9,
   "id": "74669931",
   "metadata": {},
   "outputs": [
    {
     "data": {
      "text/plain": [
       "(1, 2, 3, 4, 5)"
      ]
     },
     "execution_count": 9,
     "metadata": {},
     "output_type": "execute_result"
    }
   ],
   "source": [
    "Country = ['India','South korea','Japan'] # example1\n",
    "Country\n",
    "\n",
    "tup = (1,2,3,4) #example2\n",
    "tup\n",
    "\n",
    "my_tuple = (1, 2, 3, 4, 5) #example3\n",
    "my_tuple"
   ]
  },
  {
   "cell_type": "code",
   "execution_count": 12,
   "id": "9b85c84a",
   "metadata": {},
   "outputs": [
    {
     "name": "stdout",
     "output_type": "stream",
     "text": [
      "('Pakistan', 'Afghanistan', 'Bangladesh', 'ShriLanka', 'Vietnam', 'India', 'China')\n"
     ]
    }
   ],
   "source": [
    "#i) Manipulate using tuples.\n",
    "\n",
    "countries1 = (\"Pakistan\", \"Afghanistan\", \"Bangladesh\", \"ShriLanka\")\n",
    "countries2 = (\"Vietnam\", \"India\", \"China\")\n",
    "southEastAsia = countries1 + countries2\n",
    "print(southEastAsia)\n"
   ]
  },
  {
   "cell_type": "code",
   "execution_count": 13,
   "id": "6eccbbe6",
   "metadata": {},
   "outputs": [
    {
     "name": "stdout",
     "output_type": "stream",
     "text": [
      "(2, 5, 8, 8, 16, 67)\n"
     ]
    }
   ],
   "source": [
    "#ii) To add new elements to the end of the tuples.\n",
    "\n",
    "s=(2,5,8)\n",
    "s_append = s + (8, 16, 67)\n",
    "print(s_append)"
   ]
  },
  {
   "cell_type": "code",
   "execution_count": 14,
   "id": "1b9c9330",
   "metadata": {},
   "outputs": [
    {
     "name": "stdout",
     "output_type": "stream",
     "text": [
      "<class 'list_reverseiterator'>\n",
      "5\n",
      "4\n",
      "3\n",
      "2\n",
      "1\n"
     ]
    }
   ],
   "source": [
    "#iii) To reverse elements in the list.\n",
    "\n",
    "l = [1, 2, 3, 4, 5]\n",
    "\n",
    "print(type(reversed(l)))   #using in built function (reverse)\n",
    "for i in reversed(l):\n",
    "    print(i)"
   ]
  },
  {
   "cell_type": "code",
   "execution_count": 13,
   "id": "a228d1a3",
   "metadata": {},
   "outputs": [
    {
     "name": "stdout",
     "output_type": "stream",
     "text": [
      "\n",
      "Tuple repeated 3 times: (1, 2, 3, 4, 5, 6, 7, 1, 2, 3, 4, 5, 6, 7, 1, 2, 3, 4, 5, 6, 7)\n"
     ]
    }
   ],
   "source": [
    "#iv) To display the elements of the same tuple multiple times.\n",
    "\n",
    "repeated_tuple = my_tuple * 3\n",
    "print(\"\\nTuple repeated 3 times:\", repeated_tuple)"
   ]
  },
  {
   "cell_type": "code",
   "execution_count": 14,
   "id": "b8851b49",
   "metadata": {},
   "outputs": [
    {
     "name": "stdout",
     "output_type": "stream",
     "text": [
      "\n",
      "Concatenated tuple: (8, 9, 10, 11)\n"
     ]
    }
   ],
   "source": [
    "#v) To concatenate two tuples.\n",
    "\n",
    "tuple1 = (8, 9)\n",
    "tuple2 = (10, 11)\n",
    "concatenated_tuple = tuple1 + tuple2\n",
    "print(\"\\nConcatenated tuple:\", concatenated_tuple)"
   ]
  },
  {
   "cell_type": "code",
   "execution_count": 15,
   "id": "20db60ad",
   "metadata": {},
   "outputs": [
    {
     "name": "stdout",
     "output_type": "stream",
     "text": [
      "Sorted Tuple : (1, 2, 3, 5, 6, 7, 24)\n",
      "<class 'tuple'>\n"
     ]
    }
   ],
   "source": [
    "#vi) To sort the elements in the list in ascending order.\n",
    "\n",
    "tuple_ = (5, 2, 24, 3, 1, 6, 7)  \n",
    "sorted_ = tuple(sorted(tuple_))  \n",
    "print('Sorted Tuple :', sorted_)  \n",
    "print(type(sorted_)) "
   ]
  },
  {
   "cell_type": "markdown",
   "id": "6ad409de",
   "metadata": {},
   "source": [
    "# 3. Write a python program to implement the following using list.\n",
    "i) Create a list with integers(minimum 10 numbers).\n",
    "ii) How to display the last number in the list.\n",
    "iii) Command for displaying the values from the list[0:4]\n",
    "iv) Command for displaying the values from the list[2:]\n",
    "v) Command for displaying the values from the list[:6]"
   ]
  },
  {
   "cell_type": "code",
   "execution_count": 16,
   "id": "126d36c1",
   "metadata": {},
   "outputs": [
    {
     "data": {
      "text/plain": [
       "[1, 2, 3, 4, 5, 6, 7, 8, 9, 10, 11, 12]"
      ]
     },
     "execution_count": 16,
     "metadata": {},
     "output_type": "execute_result"
    }
   ],
   "source": [
    "#i) Create a list with integers(minimum 10 numbers).\n",
    "\n",
    "List = [1,2,3,4,5,6,7,8,9,10,11,12]\n",
    "List"
   ]
  },
  {
   "cell_type": "code",
   "execution_count": 17,
   "id": "8c876003",
   "metadata": {},
   "outputs": [
    {
     "name": "stdout",
     "output_type": "stream",
     "text": [
      "Last number in the List:  12\n"
     ]
    }
   ],
   "source": [
    "#ii) How to display the last number in the list.\n",
    "\n",
    "last_number = List[-1]\n",
    "print(\"Last number in the List: \", last_number)\n",
    "\n"
   ]
  },
  {
   "cell_type": "code",
   "execution_count": 18,
   "id": "0f0c0467",
   "metadata": {},
   "outputs": [
    {
     "data": {
      "text/plain": [
       "[1, 2, 3, 4]"
      ]
     },
     "execution_count": 18,
     "metadata": {},
     "output_type": "execute_result"
    }
   ],
   "source": [
    "#iii) Command for displaying the values from the list[0:4]\n",
    "\n",
    "List[0:4]\n"
   ]
  },
  {
   "cell_type": "code",
   "execution_count": 19,
   "id": "12a1019f",
   "metadata": {},
   "outputs": [
    {
     "data": {
      "text/plain": [
       "[3, 4, 5, 6, 7, 8, 9, 10, 11, 12]"
      ]
     },
     "execution_count": 19,
     "metadata": {},
     "output_type": "execute_result"
    }
   ],
   "source": [
    "#iv) Command for displaying the values from the list[2:]\n",
    "\n",
    "List[2:]"
   ]
  },
  {
   "cell_type": "code",
   "execution_count": 20,
   "id": "4252d506",
   "metadata": {},
   "outputs": [
    {
     "data": {
      "text/plain": [
       "[1, 2, 3, 4, 5, 6]"
      ]
     },
     "execution_count": 20,
     "metadata": {},
     "output_type": "execute_result"
    }
   ],
   "source": [
    "#v) Command for displaying the values from the list[:6]\n",
    "\n",
    "List[:6]"
   ]
  },
  {
   "cell_type": "markdown",
   "id": "94af308d",
   "metadata": {},
   "source": [
    "# 4. Write a Python program: tuple1 =(10,50,20,40,30)\n",
    "i) To display the elements 10 and 50 from tuple1\n",
    "ii)To display the length of a tuple1\n",
    "iii)To find the minimum element from tuple1\n",
    "iv)To add all elements in the tuple1\n",
    "v) To display the same tuple1 multiple times."
   ]
  },
  {
   "cell_type": "code",
   "execution_count": 21,
   "id": "9e6e2e7d",
   "metadata": {},
   "outputs": [
    {
     "data": {
      "text/plain": [
       "(10, 50, 20, 40, 30)"
      ]
     },
     "execution_count": 21,
     "metadata": {},
     "output_type": "execute_result"
    }
   ],
   "source": [
    "tuple1 = (10,50,20,40,30)\n",
    "tuple1"
   ]
  },
  {
   "cell_type": "code",
   "execution_count": 22,
   "id": "29fd72be",
   "metadata": {},
   "outputs": [
    {
     "data": {
      "text/plain": [
       "(10, 50)"
      ]
     },
     "execution_count": 22,
     "metadata": {},
     "output_type": "execute_result"
    }
   ],
   "source": [
    "#i) To display the elements 10 and 50 from tuple1\n",
    "\n",
    "tuple1[:2]"
   ]
  },
  {
   "cell_type": "code",
   "execution_count": 23,
   "id": "70eb6505",
   "metadata": {},
   "outputs": [
    {
     "name": "stdout",
     "output_type": "stream",
     "text": [
      "Length of the tuple:  5\n"
     ]
    }
   ],
   "source": [
    "#ii)To display the length of a tuple1\n",
    "\n",
    "tuple_length = len(tuple1)\n",
    "print(\"Length of the tuple: \", tuple_length)"
   ]
  },
  {
   "cell_type": "code",
   "execution_count": 24,
   "id": "8ced6340",
   "metadata": {},
   "outputs": [
    {
     "name": "stdout",
     "output_type": "stream",
     "text": [
      "Minimum element in tuple1:  10\n"
     ]
    }
   ],
   "source": [
    "#iii)To find the minimum element from tuple1\n",
    "\n",
    "min_element = min(tuple1)\n",
    "print(\"Minimum element in tuple1: \", min_element)"
   ]
  },
  {
   "cell_type": "code",
   "execution_count": 25,
   "id": "fa4f2d8e",
   "metadata": {},
   "outputs": [
    {
     "name": "stdout",
     "output_type": "stream",
     "text": [
      "Sum of elements in tuple1:  150\n"
     ]
    }
   ],
   "source": [
    "#iv)To add all elements in the tuple1\n",
    "\n",
    "sum_of_elements = sum(tuple1)\n",
    "print(\"Sum of elements in tuple1: \", sum_of_elements)"
   ]
  },
  {
   "cell_type": "code",
   "execution_count": 27,
   "id": "cf3bc477",
   "metadata": {},
   "outputs": [
    {
     "name": "stdout",
     "output_type": "stream",
     "text": [
      "Tuple1 displayed 2 times:  (10, 50, 20, 40, 30, 10, 50, 20, 40, 30)\n"
     ]
    }
   ],
   "source": [
    "#v) To display the same tuple1 multiple times\n",
    "\n",
    "result_tuple = tuple1 * 2\n",
    "print(\"Tuple1 displayed\", 2, \"times: \", result_tuple)"
   ]
  },
  {
   "cell_type": "markdown",
   "id": "62b208bb",
   "metadata": {},
   "source": [
    "# 5. Write a Python program:\n",
    "i) To calcuate the length of a string\n",
    "ii) To reverse words in a string\n",
    "iii) To display the same string multiple times\n",
    "iv) To concatenate two strings\n",
    "v) Str = \"South India\", using string slicing to display \"India\""
   ]
  },
  {
   "cell_type": "code",
   "execution_count": 28,
   "id": "a721cad0",
   "metadata": {},
   "outputs": [
    {
     "name": "stdout",
     "output_type": "stream",
     "text": [
      "Length of string1:  13\n"
     ]
    }
   ],
   "source": [
    "# i) To calculate the length of a string\n",
    "\n",
    "string1 = \"Hello, World!\"\n",
    "length = len(string1)\n",
    "print(\"Length of string1: \", length)"
   ]
  },
  {
   "cell_type": "code",
   "execution_count": 34,
   "id": "01b26868",
   "metadata": {},
   "outputs": [
    {
     "data": {
      "text/plain": [
       "'!dlroW ,olleH'"
      ]
     },
     "execution_count": 34,
     "metadata": {},
     "output_type": "execute_result"
    }
   ],
   "source": [
    "# ii) To reverse words in a string\n",
    "\n",
    "string1[::-1]"
   ]
  },
  {
   "cell_type": "code",
   "execution_count": 35,
   "id": "8f4987dc",
   "metadata": {},
   "outputs": [
    {
     "name": "stdout",
     "output_type": "stream",
     "text": [
      "String2 displayed 3 times:  PythonPythonPython\n"
     ]
    }
   ],
   "source": [
    "# iii) To display the same string multiple times\n",
    "\n",
    "string2 = \"Python\"\n",
    "n = 3  # Number of times to display the string\n",
    "result_string = string2 * 3\n",
    "print(\"String2 displayed\", 3, \"times: \", result_string)"
   ]
  },
  {
   "cell_type": "code",
   "execution_count": 37,
   "id": "ccb6020c",
   "metadata": {},
   "outputs": [
    {
     "name": "stdout",
     "output_type": "stream",
     "text": [
      "Concatenated string:  Python is a high level language\n"
     ]
    }
   ],
   "source": [
    "# iv) To concatenate two strings\n",
    "\n",
    "string3 = \" is a high level language\"\n",
    "concatenated_string = string2 + string3\n",
    "print(\"Concatenated string: \", concatenated_string)"
   ]
  },
  {
   "cell_type": "code",
   "execution_count": 39,
   "id": "1ea6b938",
   "metadata": {},
   "outputs": [
    {
     "data": {
      "text/plain": [
       "'India'"
      ]
     },
     "execution_count": 39,
     "metadata": {},
     "output_type": "execute_result"
    }
   ],
   "source": [
    "# v)Str = \"South India\", using string slicing to display \"India\"\n",
    "\n",
    "str = \"South India\"\n",
    "str[6:]"
   ]
  },
  {
   "cell_type": "markdown",
   "id": "b88ed2be",
   "metadata": {},
   "source": [
    "# 6. Perform the following:\n",
    "i) Creating the directory.\n",
    "ii)Accessing values and keys in the directory.\n",
    "iii)Updating the directory using a function.\n",
    "iv)Clear and delete the directory values."
   ]
  },
  {
   "cell_type": "code",
   "execution_count": 44,
   "id": "48f0c678",
   "metadata": {},
   "outputs": [],
   "source": [
    "#i) Creating the directory.\n",
    "\n",
    "Dir = {'f_name':'Chandler','l_name':'Bing','age':28,'city':'New york'}"
   ]
  },
  {
   "cell_type": "code",
   "execution_count": 48,
   "id": "01ecdf83",
   "metadata": {},
   "outputs": [
    {
     "name": "stdout",
     "output_type": "stream",
     "text": [
      "2. Accessing values by keys:\n",
      "f_name: Chandler\n",
      "l_name: Bing\n",
      "Age: 28\n",
      "City: New york\n"
     ]
    }
   ],
   "source": [
    "#ii)Accessing values and keys in the directory.\n",
    "\n",
    "# Accessing values by keys\n",
    "print(\"2. Accessing values by keys:\")\n",
    "print(\"f_name:\", Dir['f_name'])\n",
    "print(\"l_name:\", Dir['l_name'])\n",
    "print(\"Age:\", Dir['age'])\n",
    "print(\"City:\", Dir['city'])\n",
    "\n",
    "\n"
   ]
  },
  {
   "cell_type": "code",
   "execution_count": 49,
   "id": "1a9b02f8",
   "metadata": {},
   "outputs": [
    {
     "name": "stdout",
     "output_type": "stream",
     "text": [
      "\n",
      "3. Updated dictionary: {'f_name': 'Chandler', 'l_name': 'Bing', 'age': 28, 'city': 'New york', 'occupation': 'Engineer'}\n"
     ]
    }
   ],
   "source": [
    "#iii)Updating the directory using a function.\n",
    "\n",
    "def update_dictionary(dictionary, key, value):\n",
    "    dictionary[key] = value\n",
    "\n",
    "update_dictionary(Dir, 'occupation', 'Engineer')\n",
    "print(\"\\n3. Updated dictionary:\", Dir)\n",
    "\n"
   ]
  },
  {
   "cell_type": "code",
   "execution_count": 51,
   "id": "469384bc",
   "metadata": {},
   "outputs": [
    {
     "name": "stdout",
     "output_type": "stream",
     "text": [
      "\n",
      "4. Cleared dictionary:  {}\n"
     ]
    }
   ],
   "source": [
    "#iv)Clear and delete the directory values.\n",
    "\n",
    "Dir.clear()\n",
    "print(\"\\n4. Cleared dictionary: \", Dir)\n"
   ]
  },
  {
   "cell_type": "markdown",
   "id": "f8b7928b",
   "metadata": {},
   "source": [
    "# 7. Python program to insert a number to any position in a list"
   ]
  },
  {
   "cell_type": "code",
   "execution_count": 52,
   "id": "f7698b03",
   "metadata": {},
   "outputs": [
    {
     "name": "stdout",
     "output_type": "stream",
     "text": [
      "Updated list:  [1, 2, 6, 3, 4, 5]\n"
     ]
    }
   ],
   "source": [
    "List = [1, 2, 3, 4, 5]\n",
    "number_to_insert = 6 \n",
    "position = 2  \n",
    "List.insert(position, number_to_insert)  \n",
    "print(\"Updated list: \", List)   \n"
   ]
  },
  {
   "cell_type": "markdown",
   "id": "850134ae",
   "metadata": {},
   "source": [
    "# 8. Python program to delete an element from a list by index."
   ]
  },
  {
   "cell_type": "code",
   "execution_count": 56,
   "id": "ca7513c6",
   "metadata": {},
   "outputs": [
    {
     "name": "stdout",
     "output_type": "stream",
     "text": [
      "Updated list:  [1, 2, 3, 5, 6, 7, 8]\n",
      "Deleted element: 4\n"
     ]
    }
   ],
   "source": [
    "List = [1,2,3,4,5,6,7,8]\n",
    "index_to_delete = 3  \n",
    "deleted_element = List.pop(index_to_delete)\n",
    "print(\"Updated list: \", List)\n",
    "print(\"Deleted element:\", deleted_element)"
   ]
  },
  {
   "cell_type": "markdown",
   "id": "73aef118",
   "metadata": {},
   "source": [
    "# 9. Write a program to display a number from 1 to 100"
   ]
  },
  {
   "cell_type": "code",
   "execution_count": 11,
   "id": "9adcfbce",
   "metadata": {},
   "outputs": [
    {
     "name": "stdout",
     "output_type": "stream",
     "text": [
      "Enter a number : 5\n",
      "1 2 3 4 5 "
     ]
    }
   ],
   "source": [
    "n = int(input('Enter a number : '))\n",
    "i = 1\n",
    "while i <= n:\n",
    "    print(i, end=\" \")\n",
    "    i+=1"
   ]
  },
  {
   "cell_type": "markdown",
   "id": "973143a7",
   "metadata": {},
   "source": [
    "# 10. Write a python program to find the sum of all the items in a tuple."
   ]
  },
  {
   "cell_type": "code",
   "execution_count": 59,
   "id": "cce55b6f",
   "metadata": {},
   "outputs": [
    {
     "name": "stdout",
     "output_type": "stream",
     "text": [
      "Sum of elements in tuple:  275\n"
     ]
    }
   ],
   "source": [
    "tuple = (5,10,15,20,25,30,35,40,45,50)\n",
    "sum_of_elements = sum(tuple)\n",
    "print(\"Sum of elements in tuple: \", sum_of_elements)"
   ]
  },
  {
   "cell_type": "markdown",
   "id": "c2e541fb",
   "metadata": {},
   "source": [
    "# 11. Create a directory containing three lambda functions square,cube and square root.\n",
    "i)E.g. dict= {'square':function for squaring,'cube':function for cube,'squareroot':function for square root}\n",
    "ii) Pass the values(input from the user) to the functions in the directory respectively.\n",
    "iii)Then add the outputs of each function and print it."
   ]
  },
  {
   "cell_type": "code",
   "execution_count": 1,
   "id": "dc6675d4",
   "metadata": {},
   "outputs": [
    {
     "name": "stdout",
     "output_type": "stream",
     "text": [
      "Enter a number: 9\n",
      "square of 9.0 is 81.0\n",
      "cube of 9.0 is 729.0\n",
      "squareroot of 9.0 is 3.0\n",
      "Sum of the outputs: 813.0\n"
     ]
    }
   ],
   "source": [
    "import math\n",
    "\n",
    "func_dict = {\n",
    "    'square': lambda x: x ** 2,\n",
    "    'cube': lambda x: x ** 3,\n",
    "    'squareroot': lambda x: math.sqrt(x)\n",
    "}\n",
    "\n",
    "num = float(input(\"Enter a number: \"))\n",
    "total = 0\n",
    "for func_name, func in func_dict.items():\n",
    "    result = func(num)\n",
    "    print(f\"{func_name} of {num} is {result}\")\n",
    "    total += result\n",
    "print(\"Sum of the outputs:\", total)"
   ]
  },
  {
   "cell_type": "markdown",
   "id": "e16ad44f",
   "metadata": {},
   "source": [
    "# 12. A list of words is given. Find the words from the list that have their second character in uppercase.\n",
    "ls=['hello','Dear','hOw','ARe','You']"
   ]
  },
  {
   "cell_type": "code",
   "execution_count": 62,
   "id": "e1374cef",
   "metadata": {},
   "outputs": [
    {
     "name": "stdout",
     "output_type": "stream",
     "text": [
      "Words with a second uppercase character:  ['hOw', 'ARe']\n"
     ]
    }
   ],
   "source": [
    "ls = ['hello', 'Dear', 'hOw', 'ARe', 'You']\n",
    "result_words = []\n",
    "\n",
    "# Iterate through the list\n",
    "for word in ls:\n",
    "    if len(word) >= 2 and word[1].isupper():\n",
    "        result_words.append(word)\n",
    "print(\"Words with a second uppercase character: \", result_words)"
   ]
  },
  {
   "cell_type": "markdown",
   "id": "d876dd5b",
   "metadata": {},
   "source": [
    "# 13.A directory of names and their weights on earth is given. Find how much they will weigh on the moon. \n",
    "(use map and lambda functions) Formula: w wMoon = (wEarth*GMoon)/GEarth\n",
    "\n",
    "i) #Weight of people in kg\n",
    "   WeightOnEarth = {'John':45,'Shelly':65,'Marry':35}\n",
    "\n",
    "ii)#Gravitational force on the Moon: 1.622m/s2\n",
    "    GMoon = 1.622\n",
    "    \n",
    "iii)#Gravitational force on the Earth: 9.81m/s2\n",
    "    GEarth = 9.81"
   ]
  },
  {
   "cell_type": "code",
   "execution_count": 16,
   "id": "7544bf84",
   "metadata": {},
   "outputs": [
    {
     "name": "stdout",
     "output_type": "stream",
     "text": [
      "John's weight on the moon: 7.44 kg\n",
      "Shelly's weight on the moon: 10.75 kg\n",
      "Marry's weight on the moon: 5.79 kg\n"
     ]
    }
   ],
   "source": [
    "WeightOnEarth = {'John': 45, 'Shelly': 65, 'Marry': 35}\n",
    "GMoon = 1.622\n",
    "GEarth = 9.81\n",
    "WeightOnMoon = map(lambda weight: (weight * GMoon) / GEarth, WeightOnEarth.values())\n",
    "WeightOnMoonDict = dict(zip(WeightOnEarth.keys(), WeightOnMoon))\n",
    "for name, weight in WeightOnMoonDict.items():\n",
    "    print(f\"{name}'s weight on the moon: {weight:.2f} kg\")"
   ]
  },
  {
   "cell_type": "markdown",
   "id": "9d487dc2",
   "metadata": {},
   "source": [
    "# Control Structures:"
   ]
  },
  {
   "cell_type": "markdown",
   "id": "88b88896",
   "metadata": {},
   "source": [
    "# 1. Write a python program to find the first N prime numbers."
   ]
  },
  {
   "cell_type": "code",
   "execution_count": 65,
   "id": "ea337a9e",
   "metadata": {},
   "outputs": [
    {
     "name": "stdout",
     "output_type": "stream",
     "text": [
      "Enter the value of N: 10\n",
      "The first 10 prime numbers are:\n",
      "[2, 3, 5, 7, 11, 13, 17, 19, 23, 29]\n"
     ]
    }
   ],
   "source": [
    "def is_prime(number):\n",
    "    if number <= 1:\n",
    "        return False\n",
    "    elif number <= 3:\n",
    "        return True\n",
    "    elif number % 2 == 0 or number % 3 == 0:\n",
    "        return False\n",
    "    i = 5\n",
    "    while i * i <= number:\n",
    "        if number % i == 0 or number % (i + 2) == 0:\n",
    "            return False\n",
    "        i += 6\n",
    "    return True\n",
    "\n",
    "def find_first_n_primes(N):\n",
    "    prime_numbers = []\n",
    "    number = 2\n",
    "    while len(prime_numbers) < N:\n",
    "        if is_prime(number):\n",
    "            prime_numbers.append(number)\n",
    "        number += 1\n",
    "    return prime_numbers\n",
    "\n",
    "N = int(input(\"Enter the value of N: \"))\n",
    "prime_list = find_first_n_primes(N)\n",
    "\n",
    "print(f\"The first {N} prime numbers are:\")\n",
    "print(prime_list)"
   ]
  },
  {
   "cell_type": "markdown",
   "id": "a63f4264",
   "metadata": {},
   "source": [
    "# 2. Write the python code that calculates the salary of an employee. Prompt the user to enter the Basic salary,HRA, TA and DA.Add these components to calculate the gross salary.Also, deduct 10% of salary from the gross salary to be paid as tax and display gross minus tax as net salary."
   ]
  },
  {
   "cell_type": "code",
   "execution_count": 17,
   "id": "ec901fe9",
   "metadata": {},
   "outputs": [
    {
     "name": "stdout",
     "output_type": "stream",
     "text": [
      "17700\n"
     ]
    }
   ],
   "source": [
    "def computeSalary( basic, grade):\n",
    "     \n",
    "    hra = 0.2 * basic\n",
    "    da = 0.5 * basic\n",
    "    ta = 0.1 * basic\n",
    "     \n",
    "    if grade == 'A':\n",
    "        allowance = 1700.0\n",
    "    elif grade == 'B':\n",
    "        allowance = 1500.0\n",
    "    else:\n",
    "        allowance = 1300.0;\n",
    "     \n",
    "    gross = round(basic + hra + da +\n",
    "                    allowance - ta)\n",
    "                     \n",
    "    return gross\n",
    " \n",
    "if __name__ == '__main__':\n",
    "     \n",
    "    basic = 10000\n",
    "    grade = 'A'\n",
    "\n",
    "    print(computeSalary(basic, grade))\n"
   ]
  },
  {
   "cell_type": "markdown",
   "id": "25bbc5d7",
   "metadata": {},
   "source": [
    "# 3. Write a python program to search for a string in the given list."
   ]
  },
  {
   "cell_type": "code",
   "execution_count": 18,
   "id": "319b2183",
   "metadata": {},
   "outputs": [
    {
     "name": "stdout",
     "output_type": "stream",
     "text": [
      "cat is present in the list\n"
     ]
    }
   ],
   "source": [
    "l = [8, 1.5, 'H', 'k', 'cat',]\n",
    "\n",
    "s = 'cat' \n",
    " \n",
    "if s in l:\n",
    "    print(f'{s} is present in the list')\n",
    "else:\n",
    "    print(f'{s} is not present in the list')"
   ]
  },
  {
   "cell_type": "markdown",
   "id": "992eb810",
   "metadata": {},
   "source": [
    "# 4. Write a python function that accepts a string and calculates the number of upper-case letters and lower-case letter."
   ]
  },
  {
   "cell_type": "code",
   "execution_count": 3,
   "id": "5738201c",
   "metadata": {},
   "outputs": [
    {
     "name": "stdout",
     "output_type": "stream",
     "text": [
      "Enter a string: It was QUIET imaginary.\n",
      "Number of uppercase letters: 6\n",
      "Number of lowercase letters: 13\n"
     ]
    }
   ],
   "source": [
    "def count_upper_lower(string):\n",
    "    \n",
    "    upper_count = 0\n",
    "    lower_count = 0\n",
    "    for char in string:\n",
    "        if char.isupper():\n",
    "            upper_count += 1\n",
    "        elif char.islower():\n",
    "            lower_count += 1\n",
    "    \n",
    "    return upper_count, lower_count\n",
    "input_string = input(\"Enter a string: \")\n",
    "upper, lower = count_upper_lower(input_string)\n",
    "\n",
    "print(f\"Number of uppercase letters: {upper}\")\n",
    "print(f\"Number of lowercase letters: {lower}\")"
   ]
  },
  {
   "cell_type": "markdown",
   "id": "2a3028ab",
   "metadata": {},
   "source": [
    "# 5. Write a program to display the sum of odd numbers and even numbers that fall between 12 and 37."
   ]
  },
  {
   "cell_type": "code",
   "execution_count": 69,
   "id": "b8e9df56",
   "metadata": {},
   "outputs": [
    {
     "name": "stdout",
     "output_type": "stream",
     "text": [
      "Sum of even numbers: 312\n",
      "Sum of odd numbers: 325\n"
     ]
    }
   ],
   "source": [
    "even_sum = 0\n",
    "odd_sum = 0\n",
    "for num in range(12, 38):\n",
    "    if num % 2 == 0:  # Check if the number is even\n",
    "        even_sum += num\n",
    "    else:  # If not even, it's odd\n",
    "        odd_sum += num\n",
    "print(\"Sum of even numbers:\", even_sum)\n",
    "print(\"Sum of odd numbers:\", odd_sum)"
   ]
  },
  {
   "cell_type": "markdown",
   "id": "69d5973d",
   "metadata": {},
   "source": [
    "# 6.Write a python program to print the table of any number."
   ]
  },
  {
   "cell_type": "code",
   "execution_count": 70,
   "id": "8c445f7e",
   "metadata": {},
   "outputs": [
    {
     "name": "stdout",
     "output_type": "stream",
     "text": [
      "Enter a number to print its table: 8\n",
      "Table of 8:\n",
      "8 x 1 = 8\n",
      "8 x 2 = 16\n",
      "8 x 3 = 24\n",
      "8 x 4 = 32\n",
      "8 x 5 = 40\n",
      "8 x 6 = 48\n",
      "8 x 7 = 56\n",
      "8 x 8 = 64\n",
      "8 x 9 = 72\n",
      "8 x 10 = 80\n"
     ]
    }
   ],
   "source": [
    "num = int(input(\"Enter a number to print its table: \"))\n",
    "\n",
    "# Define the range (e.g., up to 10)\n",
    "table_range = 10\n",
    "\n",
    "# Print the table\n",
    "print(f\"Table of {num}:\")\n",
    "for i in range(1, table_range + 1):\n",
    "    product = num * i\n",
    "    print(f\"{num} x {i} = {product}\")"
   ]
  },
  {
   "cell_type": "markdown",
   "id": "74926f6a",
   "metadata": {},
   "source": [
    "# 7.Write a python program to sum the first 10 prime numbers."
   ]
  },
  {
   "cell_type": "code",
   "execution_count": 71,
   "id": "8b653b67",
   "metadata": {},
   "outputs": [
    {
     "name": "stdout",
     "output_type": "stream",
     "text": [
      "The sum of the first 10 prime numbers is: 129\n"
     ]
    }
   ],
   "source": [
    "def is_prime(number):\n",
    "    if number <= 1:\n",
    "        return False\n",
    "    elif number <= 3:\n",
    "        return True\n",
    "    elif number % 2 == 0 or number % 3 == 0:\n",
    "        return False\n",
    "    i = 5\n",
    "    while i * i <= number:\n",
    "        if number % i == 0 or number % (i + 2) == 0:\n",
    "            return False\n",
    "        i += 6\n",
    "    return True\n",
    "\n",
    "def sum_first_n_primes(N):\n",
    "    prime_numbers = []\n",
    "    number = 2\n",
    "    while len(prime_numbers) < N:\n",
    "        if is_prime(number):\n",
    "            prime_numbers.append(number)\n",
    "        number += 1\n",
    "    return sum(prime_numbers)\n",
    "\n",
    "N = 10  \n",
    "sum_of_primes = sum_first_n_primes(N)\n",
    "\n",
    "print(f\"The sum of the first {N} prime numbers is: {sum_of_primes}\")"
   ]
  },
  {
   "cell_type": "markdown",
   "id": "d67971b0",
   "metadata": {},
   "source": [
    "# 8. Write a python program to implement arithematic operations using nested if statement."
   ]
  },
  {
   "cell_type": "code",
   "execution_count": 1,
   "id": "466a3958",
   "metadata": {},
   "outputs": [
    {
     "name": "stdout",
     "output_type": "stream",
     "text": [
      "Enter the first number: 8\n",
      "Enter the second number: 9\n",
      "Enter the operation (+, -, *, /): +\n",
      "Result: 17.0\n"
     ]
    }
   ],
   "source": [
    "num1 = float(input(\"Enter the first number: \"))\n",
    "num2 = float(input(\"Enter the second number: \"))\n",
    "operation = input(\"Enter the operation (+, -, *, /): \")\n",
    "result = 0\n",
    "\n",
    "if operation == \"+\":\n",
    "    result = num1 + num2\n",
    "elif operation == \"-\":\n",
    "    result = num1 - num2\n",
    "elif operation == \"*\":\n",
    "    result = num1 * num2\n",
    "elif operation == \"/\":\n",
    "    if num2 != 0:  \n",
    "        result = num1 / num2\n",
    "    else:\n",
    "        print(\"Error: Division by zero\")\n",
    "else:\n",
    "    print(\"Invalid operation\")\n",
    "print(f\"Result: {result}\")\n"
   ]
  },
  {
   "cell_type": "markdown",
   "id": "9180f08a",
   "metadata": {},
   "source": [
    "# 9. Write a python program to take the temperature in celsius and convert it to a Fahrenheit."
   ]
  },
  {
   "cell_type": "code",
   "execution_count": 2,
   "id": "dd83e504",
   "metadata": {},
   "outputs": [
    {
     "name": "stdout",
     "output_type": "stream",
     "text": [
      "Enter temperature in Celsius: 36\n",
      "36.0 degrees Celsius is equal to 96.8 degrees Fahrenheit\n"
     ]
    }
   ],
   "source": [
    "def celsius_to_fahrenheit(celsius):\n",
    "    fahrenheit = (celsius * 9/5) + 32\n",
    "    return fahrenheit\n",
    "celsius = float(input(\"Enter temperature in Celsius: \"))\n",
    "fahrenheit = celsius_to_fahrenheit(celsius)\n",
    "print(f\"{celsius} degrees Celsius is equal to {fahrenheit} degrees Fahrenheit\")"
   ]
  },
  {
   "cell_type": "markdown",
   "id": "14cdcfbd",
   "metadata": {},
   "source": [
    "# 10. Write a python program to find a maximum and minimum number in a list without using an inbuilt function."
   ]
  },
  {
   "cell_type": "code",
   "execution_count": 3,
   "id": "a4742614",
   "metadata": {},
   "outputs": [
    {
     "name": "stdout",
     "output_type": "stream",
     "text": [
      "Enter a list of numbers separated by spaces: 8 5 18 9 11 16 23 6 \n",
      "Maximum number: 23\n",
      "Minimum number: 5\n"
     ]
    }
   ],
   "source": [
    "def find_max_min(numbers):\n",
    "    if not numbers:\n",
    "        return None, None  # Return None for both max and min if the list is empty\n",
    "\n",
    "    max_num = numbers[0]  \n",
    "    min_num = numbers[0]\n",
    "\n",
    "    for num in numbers:\n",
    "        if num > max_num:\n",
    "            max_num = num\n",
    "        elif num < min_num:\n",
    "            min_num = num\n",
    "\n",
    "    return max_num, min_num\n",
    "\n",
    "# Input list of numbers\n",
    "numbers = [int(x) for x in input(\"Enter a list of numbers separated by spaces: \").split()]\n",
    "\n",
    "# Find the maximum and minimum\n",
    "max_number, min_number = find_max_min(numbers)\n",
    "\n",
    "if max_number is not None and min_number is not None:\n",
    "    print(f\"Maximum number: {max_number}\")\n",
    "    print(f\"Minimum number: {min_number}\")\n",
    "else:\n",
    "    print(\"The list is empty.\")\n"
   ]
  },
  {
   "cell_type": "markdown",
   "id": "3acfd894",
   "metadata": {},
   "source": [
    "# 11. Write a Python Program to print out the number of seconds in 30 day month 30 days, 24 hours in a day, 60 mins per day, 60 second per min."
   ]
  },
  {
   "cell_type": "code",
   "execution_count": 3,
   "id": "11c92e3f",
   "metadata": {},
   "outputs": [
    {
     "name": "stdout",
     "output_type": "stream",
     "text": [
      "Number of seconds in a 30-day month: 2592000\n"
     ]
    }
   ],
   "source": [
    "days_in_month = 30\n",
    "hours_per_day = 24\n",
    "minutes_per_hour = 60\n",
    "seconds_per_minute = 60\n",
    "seconds_in_month = days_in_month * hours_per_day * minutes_per_hour * seconds_per_minute\n",
    "print(f\"Number of seconds in a 30-day month: {seconds_in_month}\")"
   ]
  },
  {
   "cell_type": "markdown",
   "id": "12ddc104",
   "metadata": {},
   "source": [
    "# 12. Write a Python Program to print out the number of seconds in a year."
   ]
  },
  {
   "cell_type": "code",
   "execution_count": 4,
   "id": "0b6dd448",
   "metadata": {},
   "outputs": [
    {
     "name": "stdout",
     "output_type": "stream",
     "text": [
      "Number of seconds in a non-leap year: 31536000\n",
      "Number of seconds in a leap year: 31622400\n"
     ]
    }
   ],
   "source": [
    "seconds_per_minute = 60\n",
    "minutes_per_hour = 60\n",
    "hours_per_day = 24\n",
    "days_per_year = 365  \n",
    "seconds_in_non_leap_year = seconds_per_minute * minutes_per_hour * hours_per_day * days_per_year\n",
    "seconds_in_leap_year = seconds_in_non_leap_year + (seconds_per_minute * minutes_per_hour * hours_per_day)\n",
    "\n",
    "print(f\"Number of seconds in a non-leap year: {seconds_in_non_leap_year}\")\n",
    "print(f\"Number of seconds in a leap year: {seconds_in_leap_year}\")"
   ]
  },
  {
   "cell_type": "markdown",
   "id": "d0e2b44c",
   "metadata": {},
   "source": [
    "# 13. A high speed train can travel at an avg speed of 150 mph, how long will it take a train travelling at this speed to travel from Londen to Glasgow which is 414 miles away."
   ]
  },
  {
   "cell_type": "code",
   "execution_count": 5,
   "id": "9ae6fed2",
   "metadata": {},
   "outputs": [
    {
     "name": "stdout",
     "output_type": "stream",
     "text": [
      "A high-speed train traveling at 150 mph will take approximately 2.76 hours or 165.60 minutes to travel from London to Glasgow.\n"
     ]
    }
   ],
   "source": [
    "average_speed_mph = 150  \n",
    "distance_miles = 414     \n",
    "time_hours = distance_miles / average_speed_mph\n",
    "time_minutes = time_hours * 60\n",
    "print(f\"A high-speed train traveling at {average_speed_mph} mph will take approximately {time_hours:.2f} hours or {time_minutes:.2f} minutes to travel from London to Glasgow.\")"
   ]
  },
  {
   "cell_type": "markdown",
   "id": "487ec5dd",
   "metadata": {},
   "source": [
    "# 14.Write a Python Program that defines a variable called days_in_each_school_year and assign 192 to variable. The program should then print out the total hours that you spend in school from year 7 to year 11. if each day you spend 6 hours in school day_in_each_school_year = 192."
   ]
  },
  {
   "cell_type": "code",
   "execution_count": 6,
   "id": "ebb1fc7b",
   "metadata": {},
   "outputs": [
    {
     "name": "stdout",
     "output_type": "stream",
     "text": [
      "Total hours spent in school from year 7 to year 11 : 5760 hours\n"
     ]
    }
   ],
   "source": [
    "days_in_each_school_year = 192 \n",
    "hours_per_day = 6 \n",
    "\n",
    "total_hours_in_school = (days_in_each_school_year * 5) * hours_per_day \n",
    "print(f\"Total hours spent in school from year 7 to year 11 : {total_hours_in_school} hours\")"
   ]
  },
  {
   "cell_type": "markdown",
   "id": "65610c72",
   "metadata": {},
   "source": [
    "# 15. If the ages of Ram, Sam and Khan are input through the keyboard, write a python program to determine the eldest and the youngest of the three."
   ]
  },
  {
   "cell_type": "code",
   "execution_count": 10,
   "id": "58a3dbdb",
   "metadata": {},
   "outputs": [
    {
     "name": "stdout",
     "output_type": "stream",
     "text": [
      "Enter Ram's age: 28\n",
      "Enter Sam's age: 15\n",
      "Enter Khan's age: 30\n",
      "The eldest among Ram, Sam, and Khan is: Khan\n",
      "The youngest among Ram, Sam, and Khan is: Sam\n"
     ]
    }
   ],
   "source": [
    "ram_age = int(input(\"Enter Ram's age: \"))\n",
    "sam_age = int(input(\"Enter Sam's age: \"))\n",
    "khan_age = int(input(\"Enter Khan's age: \"))\n",
    "\n",
    "# Determine the eldest and youngest\n",
    "if ram_age > sam_age and ram_age > khan_age:\n",
    "    eldest = \"Ram\"\n",
    "elif sam_age > ram_age and sam_age > khan_age:\n",
    "    eldest = \"Sam\"\n",
    "else:\n",
    "    eldest = \"Khan\"\n",
    "\n",
    "if ram_age < sam_age and ram_age < khan_age:\n",
    "    youngest = \"Ram\"\n",
    "elif sam_age < ram_age and sam_age < khan_age:\n",
    "    youngest = \"Sam\"\n",
    "else:\n",
    "    youngest = \"Khan\"\n",
    "\n",
    "print(f\"The eldest among Ram, Sam, and Khan is: {eldest}\")\n",
    "print(f\"The youngest among Ram, Sam, and Khan is: {youngest}\")"
   ]
  },
  {
   "cell_type": "markdown",
   "id": "e0ba0eca",
   "metadata": {},
   "source": [
    "# 16.Write a python program to rotate a list by the right n times with and without slicing technique."
   ]
  },
  {
   "cell_type": "code",
   "execution_count": 5,
   "id": "1b3ef606",
   "metadata": {},
   "outputs": [
    {
     "name": "stdout",
     "output_type": "stream",
     "text": [
      "List before rotation =  [5, 20, 34, 67, 89, 94, 98, 110]\n",
      "Updated List after rotation =  [89, 94, 98, 110, 5, 20, 34, 67]\n"
     ]
    }
   ],
   "source": [
    "myList =[5, 20, 34, 67, 89, 94, 98, 110]\n",
    "print(\"List before rotation = \",myList)\n",
    "n = 4\n",
    "# Rotating the List by slicing\n",
    "myList = (myList[len(myList) - n:len(myList)] + myList[0:len(myList) - n])\n",
    "print(\"Updated List after rotation = \",myList)"
   ]
  },
  {
   "cell_type": "code",
   "execution_count": 6,
   "id": "76d88f21",
   "metadata": {},
   "outputs": [
    {
     "name": "stdout",
     "output_type": "stream",
     "text": [
      "[4, 5, 6, 1, 2, 3]\n"
     ]
    }
   ],
   "source": [
    "def rightRotate(lists, num):\n",
    "    output_list = []\n",
    " \n",
    "    \n",
    "    for item in range(len(lists) - num, len(lists)):\n",
    "        output_list.append(lists[item])\n",
    "\n",
    "    for item in range(0, len(lists) - num):\n",
    "        output_list.append(lists[item])\n",
    " \n",
    "    return output_list\n",
    " #without using slicing\n",
    "rotate_num = 3\n",
    "list_1 = [1, 2, 3, 4, 5, 6]\n",
    " \n",
    "print(rightRotate(list_1, rotate_num))"
   ]
  },
  {
   "cell_type": "markdown",
   "id": "1c2facb0",
   "metadata": {},
   "source": [
    "# 17.Python program to print pattern\n",
    "1 1 1 1 2 1 1 3 3 1 1 4 6 4 1 1 5 10 10 5 1 1 6 15 20 15 6 1"
   ]
  },
  {
   "cell_type": "code",
   "execution_count": 7,
   "id": "10a53824",
   "metadata": {},
   "outputs": [
    {
     "name": "stdout",
     "output_type": "stream",
     "text": [
      "1 \n",
      "1 1 \n",
      "1 2 1 \n",
      "1 3 3 1 \n",
      "1 4 6 4 1 \n",
      "1 5 10 10 5 1 \n",
      "1 6 15 20 15 6 1 \n"
     ]
    }
   ],
   "source": [
    "def print_triangle(size):\n",
    "    for i in range(0, size):\n",
    "        for j in range(0, i + 1):\n",
    "            print(decide_number(i, j), end=\" \")\n",
    "        print()\n",
    "\n",
    "\n",
    "def decide_number(n, k):\n",
    "    num = 1\n",
    "    if k > n - k:\n",
    "        k = n - k\n",
    "    for i in range(0, k):\n",
    "        num = num * (n - i)\n",
    "        num = num // (i + 1)\n",
    "    return num\n",
    "\n",
    "# set rows\n",
    "rows = 7\n",
    "print_triangle(rows)"
   ]
  },
  {
   "cell_type": "code",
   "execution_count": 8,
   "id": "6231934d",
   "metadata": {},
   "outputs": [
    {
     "name": "stdout",
     "output_type": "stream",
     "text": [
      "* \r\n",
      "* * \r\n",
      "* * * \r\n",
      "* * * * \r\n",
      "* * * * * \r\n"
     ]
    }
   ],
   "source": [
    "# number of rows\n",
    "rows = 5\n",
    "for i in range(0, rows):\n",
    "    # nested loop for each column\n",
    "    for j in range(0, i + 1):\n",
    "        # print star\n",
    "        print(\"*\", end=' ')\n",
    "    # new line after each row\n",
    "    print(\"\\r\")"
   ]
  },
  {
   "cell_type": "code",
   "execution_count": 9,
   "id": "7abd15c7",
   "metadata": {},
   "outputs": [
    {
     "name": "stdout",
     "output_type": "stream",
     "text": [
      "Print equilateral triangle \n",
      "            *   \n",
      "           *  *   \n",
      "          *  *  *   \n",
      "         *  *  *  *   \n",
      "        *  *  *  *  *   \n",
      "       *  *  *  *  *  *   \n",
      "      *  *  *  *  *  *  *   \n"
     ]
    }
   ],
   "source": [
    "print(\"Print equilateral triangle \")\n",
    "size = 7\n",
    "m = (2 * size) - 2\n",
    "for i in range(0, size):\n",
    "    for j in range(0, m):\n",
    "        print(end=\" \")\n",
    "   \n",
    "    m = m - 1\n",
    "    for j in range(0, i + 1):\n",
    "        print(\"* \", end=' ')\n",
    "    print(\" \")"
   ]
  },
  {
   "cell_type": "code",
   "execution_count": 10,
   "id": "f25b6da3",
   "metadata": {},
   "outputs": [
    {
     "name": "stdout",
     "output_type": "stream",
     "text": [
      "P\n",
      "Py\n",
      "Pyt\n",
      "Pyth\n",
      "Pytho\n",
      "Python\n"
     ]
    }
   ],
   "source": [
    "word = \"Python\"\n",
    "x = \"\"\n",
    "for i in word:\n",
    "    x += i\n",
    "    print(x)"
   ]
  }
 ],
 "metadata": {
  "kernelspec": {
   "display_name": "Python 3 (ipykernel)",
   "language": "python",
   "name": "python3"
  },
  "language_info": {
   "codemirror_mode": {
    "name": "ipython",
    "version": 3
   },
   "file_extension": ".py",
   "mimetype": "text/x-python",
   "name": "python",
   "nbconvert_exporter": "python",
   "pygments_lexer": "ipython3",
   "version": "3.11.4"
  }
 },
 "nbformat": 4,
 "nbformat_minor": 5
}
