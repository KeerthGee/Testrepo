{
 "cells": [
  {
   "cell_type": "markdown",
   "id": "78332859",
   "metadata": {},
   "source": [
    "# 1. Write a python function that copies a file reading and writing up to 50 characters at a time."
   ]
  },
  {
   "cell_type": "code",
   "execution_count": 13,
   "id": "b1e5d943",
   "metadata": {},
   "outputs": [
    {
     "name": "stdout",
     "output_type": "stream",
     "text": [
      "File 's.txt' copied to 'd.txt' successfully.\n"
     ]
    }
   ],
   "source": [
    "def copy_file(s_file, d_file):\n",
    "   try:\n",
    "       with open(s_file, 'rb') as source, open(d_file, 'wb') as destination:\n",
    "           while True:\n",
    "               chunk = source.read(50)  # Read up to 50 characters at a time\n",
    "               if not chunk:\n",
    "                   break \n",
    "               destination.write(chunk)  \n",
    "       print(f\"File '{s_file}' copied to '{d_file}' successfully.\")\n",
    "   except FileNotFoundError:\n",
    "       print(\"File not found.\")\n",
    "   except Exception as e:\n",
    "       print(f\"An error occurred: {str(e)}\")\n",
    "\n",
    "copy_file('s.txt', 'd.txt')"
   ]
  },
  {
   "cell_type": "markdown",
   "id": "83e0962e",
   "metadata": {},
   "source": [
    "# 2. Print all numbers present in the text file and print the number of blank spaces in that file."
   ]
  },
  {
   "cell_type": "code",
   "execution_count": 16,
   "id": "6b2ad0a7",
   "metadata": {},
   "outputs": [
    {
     "name": "stdout",
     "output_type": "stream",
     "text": [
      "Numbers in the file:  ['366', '113', '1', '2', '28', '2', '3', '4', '7', '5', '13', '3', '5', '5', '2', '0', '2', '0', '0', '07', '23', '9', '1', '18', '24', '0', '63', '0', '85']\n",
      "Number of blank spaces in the file: 165\n"
     ]
    }
   ],
   "source": [
    "import re\n",
    "def extract_numbers_and_count_spaces(ns_file):\n",
    "    numbers = []\n",
    "    space_count = 0\n",
    "    try:\n",
    "        with open(ns_file, 'r') as file:\n",
    "            content = file.read()\n",
    "            numbers = re.findall(r'\\d+', content)\n",
    "            space_count = content.count(' ')\n",
    "    except FileNotFoundError:\n",
    "        print(f\"Error: File not found - {ns_file}\")\n",
    "    except Exception as e:\n",
    "        print(f\"Error: {e}\")\n",
    "    return numbers, space_count\n",
    "\n",
    "ns_file = \"ns.txt\" \n",
    "extracted_numbers, blank_space_count = extract_numbers_and_count_spaces(ns_file)\n",
    "print(\"Numbers in the file: \", extracted_numbers)\n",
    "print(\"Number of blank spaces in the file:\", blank_space_count)\n"
   ]
  },
  {
   "cell_type": "markdown",
   "id": "ff5ab1f6",
   "metadata": {},
   "source": [
    "# 3. Write a function called sed that takes as arguments a pattern string, a replacement string, and two filenames; it should read the first file and write the contents into the second file (creating it if necessary). If the pattern string appears anywhere in the file, it should be replaced with the replacement string. If an error occurs while opening, reading, writing, or closing files, your program should catch the exception, print an error message, and exit."
   ]
  },
  {
   "cell_type": "code",
   "execution_count": 27,
   "id": "1afdde24",
   "metadata": {},
   "outputs": [
    {
     "name": "stdout",
     "output_type": "stream",
     "text": [
      "Pattern 'pattern.txt' replaced in 'source.txt', and saved to 'destination.txt'\n"
     ]
    }
   ],
   "source": [
    "def sed(pattern, replacement, source_file, destination_file):\n",
    "    try:\n",
    "        with open(source_file, 'r') as source:\n",
    "            content = source.read()\n",
    "        modified_content = content.replace(pattern, replacement)\n",
    "\n",
    "        with open(destination_file, 'w') as destination:\n",
    "            destination.write(modified_content)\n",
    "\n",
    "    except FileNotFoundError:\n",
    "        print(f\"Error: File not found - {source_file}\")\n",
    "    except Exception as e:\n",
    "        print(f\"Error: {e}\")\n",
    "\n",
    "pattern = \"pattern.txt\"\n",
    "replacement = \"pattern.txt\"\n",
    "source_file = \"source.txt\"\n",
    "destination_file = \"destination.txt\"\n",
    "\n",
    "sed(pattern, replacement, source_file, destination_file)\n",
    "print(f\"Pattern '{pattern}' replaced in '{source_file}', and saved to '{destination_file}'\")\n"
   ]
  },
  {
   "cell_type": "markdown",
   "id": "daee11ed",
   "metadata": {},
   "source": [
    "# 4.Log File Analysis: You have a log file containing records of user activities on a website. Each line in the file represents a log entry with details like timestamp, user ID, and action performed. Your task is to analyze this log file.\n",
    "\n",
    "a. Write Python code to read the log file and extract specific information, such as the number of unique users or the most common action.\n",
    "\n",
    "b. How would you handle large log files efficiently without loading the entire file into memory?"
   ]
  },
  {
   "cell_type": "code",
   "execution_count": null,
   "id": "cc65d9b6",
   "metadata": {},
   "outputs": [],
   "source": [
    "from collections import Counter\n",
    "def analyze_log(log_file_path):   \n",
    "    unique_users = set()\n",
    "    action_counts = Counter()\n",
    "    try:\n",
    "        with open(log_file_path, 'r') as file:\n",
    "            for line in file:\n",
    "               \n",
    "                parts = line.split()\n",
    "                if len(parts) >= 3:\n",
    "                    \n",
    "                    timestamp, user_id, action = parts[0], parts[1], parts[2]\n",
    "                    \n",
    "                    unique_users.add(user_id)\n",
    "                    action_counts[action] += 1\n",
    "                   \n",
    "\n",
    "        \n",
    "        print(f\"Number of unique users:\",len(unique_users))\n",
    "        most_common_action, most_common_count = action_counts.most_common(1)[0]\n",
    "        print(f\"Most common action:\",most_common_action,most_common_count,\" times)\")\n",
    "\n",
    "    except FileNotFoundError:\n",
    "        print(f\"Log file not found:\",log_file_path)\n",
    "    except Exception as e:\n",
    "        print(f\"An error occurred:\",str(e))\n",
    "\n",
    "\n",
    "log_file_path = log_file\n",
    "analyze_log(log_file_path)"
   ]
  },
  {
   "cell_type": "markdown",
   "id": "16caa67d",
   "metadata": {},
   "source": [
    "# 5.Text File Search and Replace: You have a text file with a large amount of text, and you want to search for specific words or phrases and replace them with new content.\n",
    "\n",
    "a. Write Python code to search for and replace text within a text file.\n",
    "\n",
    "b. How would you handle cases where you need to perform multiple replacements in a single pass?\n"
   ]
  },
  {
   "cell_type": "code",
   "execution_count": 67,
   "id": "5e080c6c",
   "metadata": {},
   "outputs": [
    {
     "name": "stdout",
     "output_type": "stream",
     "text": [
      "Search and replace complete. Output written to output5.txt\n"
     ]
    }
   ],
   "source": [
    "#5a \n",
    "\n",
    "def search_replace_in_file(input_file, output_file, search_text, replace_text):\n",
    "    try:\n",
    "        with open(input_file, 'r') as infile:\n",
    "            file_content = infile.read()\n",
    "\n",
    "        modified_content = file_content.replace(search_text, replace_text)\n",
    "        with open(output_file, 'w') as outfile:\n",
    "            outfile.write(modified_content)\n",
    "\n",
    "        print(\"Search and replace complete. Output written to\", output_file)\n",
    "    except Exception as e:\n",
    "        print(\"An error occurred:\", str(e))\n",
    "\n",
    "input_file = \"input5.txt\"   \n",
    "output_file = \"output5.txt\" \n",
    "search_text = \"to\"   \n",
    "replace_text = \"toooo\"  \n",
    "search_replace_in_file(input_file, output_file, search_text,replace_text)"
   ]
  },
  {
   "cell_type": "code",
   "execution_count": 66,
   "id": "57d5a92d",
   "metadata": {},
   "outputs": [
    {
     "name": "stdout",
     "output_type": "stream",
     "text": [
      "Multiple search and replace complete. Output written to output5.txt\n"
     ]
    }
   ],
   "source": [
    "#5b\n",
    "\n",
    "def multiple_search_replace_in_file(input_file, output_file, replacements):\n",
    "    try:\n",
    "        with open(input_file, 'r') as infile:\n",
    "            file_content = infile.read()\n",
    "\n",
    "        for search_text, replace_text in replacements.items():\n",
    "            file_content = file_content.replace(search_text, replace_text)\n",
    "\n",
    "        with open(output_file, 'w') as outfile:\n",
    "            outfile.write(file_content)\n",
    "\n",
    "        print(\"Multiple search and replace complete. Output written to\", output_file)\n",
    "    except Exception as e:\n",
    "        print(\"An error occurred:\", str(e))\n",
    "\n",
    "input_file = \"input5.txt\"   \n",
    "output_file = \"output5.txt\" \n",
    "replacements = {\n",
    "    \"old_text_1\": \"new_text_1\",\n",
    "    \"old_text_2\": \"new_text_2\",\n",
    "}\n",
    "multiple_search_replace_in_file(input_file, output_file,replacements)"
   ]
  },
  {
   "cell_type": "markdown",
   "id": "ec3c23e6",
   "metadata": {},
   "source": [
    "# 6. Write a Python script that concatenates the contents of multiple text files into a single output file. Allow the user to specify the input files and the output file."
   ]
  },
  {
   "cell_type": "code",
   "execution_count": 99,
   "id": "18fb0843",
   "metadata": {},
   "outputs": [
    {
     "name": "stdout",
     "output_type": "stream",
     "text": [
      "Concatenated files (join.input_files) (output_file)\n"
     ]
    }
   ],
   "source": [
    "def concatenate_files(input_files, output6_file):\n",
    "    try:\n",
    "        with open(output6_file, 'w') as output:\n",
    "            for input_file in input_files:\n",
    "                try:\n",
    "                    with open(input_file, 'r') as file:\n",
    "                        output.write(file.read())\n",
    "\n",
    "                except FileNotFoundError:\n",
    "                    print(f\"Warning: Input file not found - {input_file}\")\n",
    "                except Exception as e:\n",
    "                    print(f\"Error while processing {input_file}: {e}\")\n",
    "\n",
    "    except Exception as e:\n",
    "        print(f\"Error: {e}\")\n",
    "\n",
    "input_files = [\"Input1.txt\", \"Input2.txt\", \"Input3.txt\"]  \n",
    "output_file = \"output6.txt\"  \n",
    "\n",
    "concatenate_files =(input_files, output_file)\n",
    "\n",
    "print(\"Concatenated files (join.input_files) (output_file)\")\n"
   ]
  },
  {
   "cell_type": "markdown",
   "id": "35697016",
   "metadata": {},
   "source": [
    "# 7.You are given a text file named input.txt containing a list of words, one word per line. Your task is to create a Python program that reads the contents of input.txt, processes the words, and writes the result to an output file named output.txt.\n",
    "\n",
    "a. The program should perform the following operations:\n",
    "\n",
    "i. Read the words from input.txt.\n",
    "\n",
    "ii. For each word in the input file, calculate the length of the word and store it in a dictionary where the word is the key, and the length is the value.\n",
    "\n",
    "iii. Write the word-length dictionary to output.txt in the following format:\n",
    "\n",
    "Word 1 : Length 1\n",
    "Word 2 : Length 2\n",
    "...\n",
    "\n",
    "Iv)Close both input and output files properly.\n",
    "\n",
    "v) Write Python code to accomplish this task. Ensure proper error handling for file operations.\n",
    "\n",
    "Sample Input(\"input.txt')\n",
    " apple \n",
    "Banana\n",
    "Cherry \n",
    "Date \n",
    "\n",
    "Sample output ( 'output.txt') \n",
    " Apple : 5 \n",
    "banana : 6\n",
    "Cherry : 6\n",
    "date : 4"
   ]
  },
  {
   "cell_type": "code",
   "execution_count": 32,
   "id": "adf0891c",
   "metadata": {},
   "outputs": [
    {
     "name": "stdout",
     "output_type": "stream",
     "text": [
      "Processing completed. Check 'output.txt' for results.\n"
     ]
    }
   ],
   "source": [
    "with open('input.txt', 'w') as file:\n",
    "    file.write(\"Petrichor\\n\")\n",
    "    file.write(\"Rain\\n\")\n",
    "    file.write(\"Euphoria\\n\")\n",
    "    file.write(\"V\\n\")\n",
    "\n",
    "input_file_name = 'input.txt'\n",
    "output_file_name = 'output.txt'\n",
    "\n",
    "try:\n",
    "    with open(input_file_name, 'r') as input_file:\n",
    "        word_length_dict = {} \n",
    "\n",
    "        for line in input_file:\n",
    "            word = line.strip()  \n",
    "            length = len(word)   \n",
    "            \n",
    "            word_length_dict[word] = length\n",
    "            \n",
    "    with open(output_file_name, 'w') as output_file:\n",
    "        for word, length in word_length_dict.items():\n",
    "            output_file.write(f\"{word}: {length}\\n\")\n",
    "\n",
    "    print(\"Processing completed. Check 'output.txt' for results.\")\n",
    "\n",
    "except FileNotFoundError:\n",
    "    print(f\"Error: {input_file_name} not found.\")\n",
    "except Exception as e:\n",
    "    print(f\"An error occurred: {str(e)}\")"
   ]
  },
  {
   "cell_type": "markdown",
   "id": "fd3c9ee3",
   "metadata": {},
   "source": [
    "# 8. Assume that you are developing a student gradebook system for a school. The system should allow teachers to input student grades for various subjects, store the data in files, and provide students with the ability to view their grades.\n",
    "\n",
    "Design a Python program that accomplishes the following tasks:\n",
    "\n",
    "i. Teachers should be able to input grades for students in different subjects.\n",
    "\n",
    "ii. Store the student grade data in separate text files for each subject.\n",
    "\n",
    "iii. Students should be able to view their grades for each subject.\n",
    "\n",
    "iv. Implement error handling for file operations, such as file not found or permission issues."
   ]
  },
  {
   "cell_type": "code",
   "execution_count": 14,
   "id": "1a2bd3a1",
   "metadata": {},
   "outputs": [
    {
     "name": "stdout",
     "output_type": "stream",
     "text": [
      "\n",
      "Student Gradebook System\n",
      "1. Input Grades\n",
      "2. View Grades\n",
      "3. Exit\n",
      "Enter your choice (1/2/3): 1\n",
      "Enter the subject: Math\n",
      "Enter student name: Ram\n",
      "Enter Math grade for Ram: 90\n",
      "Grade for Ram in Math has been recorded.\n",
      "\n",
      "Student Gradebook System\n",
      "1. Input Grades\n",
      "2. View Grades\n",
      "3. Exit\n",
      "Enter your choice (1/2/3): 1\n",
      "Enter the subject: Math\n",
      "Enter student name: Raj\n",
      "Enter Math grade for Raj: 80\n",
      "Grade for Raj in Math has been recorded.\n",
      "\n",
      "Student Gradebook System\n",
      "1. Input Grades\n",
      "2. View Grades\n",
      "3. Exit\n",
      "Enter your choice (1/2/3): 2\n",
      "Enter the subject: Math\n",
      "Grades for Math:\n",
      "Harshith: 90\n",
      "Ram: 90\n",
      "Raj: 80\n",
      "\n",
      "Student Gradebook System\n",
      "1. Input Grades\n",
      "2. View Grades\n",
      "3. Exit\n",
      "Enter your choice (1/2/3): 3\n",
      "Goodbye!\n"
     ]
    }
   ],
   "source": [
    "import os\n",
    "\n",
    "# Function to input and store student grades for a subject\n",
    "def input_grades(subject):\n",
    "    try:\n",
    "        file_name = f\"{subject}.txt\"\n",
    "        with open(file_name, \"a\") as file:\n",
    "            student_name = input(\"Enter student name: \")\n",
    "            grade = input(f\"Enter {subject} grade for {student_name}: \")\n",
    "            file.write(f\"{student_name}: {grade}\\n\")\n",
    "        print(f\"Grade for {student_name} in {subject} has been recorded.\")\n",
    "    except IOError as e:\n",
    "        print(f\"Error: {e}\")\n",
    "\n",
    "# Function to view student grades for a subject\n",
    "def view_grades(subject):\n",
    "    try:\n",
    "        file_name = f\"{subject}.txt\"\n",
    "        if not os.path.exists(file_name):\n",
    "            print(f\"No grades recorded for {subject} yet.\")\n",
    "            return\n",
    "\n",
    "        with open(file_name, \"r\") as file:\n",
    "            print(f\"Grades for {subject}:\")\n",
    "            for line in file:\n",
    "                print(line.strip())\n",
    "    except IOError as e:\n",
    "        print(f\"Error: {e}\")\n",
    "\n",
    "# Main program loop\n",
    "while True:\n",
    "    print(\"\\nStudent Gradebook System\")\n",
    "    print(\"1. Input Grades\")\n",
    "    print(\"2. View Grades\")\n",
    "    print(\"3. Exit\")\n",
    "\n",
    "    choice = input(\"Enter your choice (1/2/3): \")\n",
    "\n",
    "    if choice == \"1\":\n",
    "        subject = input(\"Enter the subject: \")\n",
    "        input_grades(subject)\n",
    "    elif choice == \"2\":\n",
    "        subject = input(\"Enter the subject: \")\n",
    "        view_grades(subject)\n",
    "    elif choice == \"3\":\n",
    "        break\n",
    "    else:\n",
    "        print(\"Invalid choice. Please enter 1, 2, or 3.\")\n",
    "\n",
    "print(\"Goodbye!\")"
   ]
  }
 ],
 "metadata": {
  "kernelspec": {
   "display_name": "Python 3 (ipykernel)",
   "language": "python",
   "name": "python3"
  },
  "language_info": {
   "codemirror_mode": {
    "name": "ipython",
    "version": 3
   },
   "file_extension": ".py",
   "mimetype": "text/x-python",
   "name": "python",
   "nbconvert_exporter": "python",
   "pygments_lexer": "ipython3",
   "version": "3.11.4"
  }
 },
 "nbformat": 4,
 "nbformat_minor": 5
}
