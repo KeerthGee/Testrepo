{
 "cells": [
  {
   "cell_type": "markdown",
   "id": "ab8446df",
   "metadata": {},
   "source": [
    "# 1. Create a 3x3x3 array with random number."
   ]
  },
  {
   "cell_type": "code",
   "execution_count": 1,
   "id": "165d17f0",
   "metadata": {},
   "outputs": [
    {
     "name": "stdout",
     "output_type": "stream",
     "text": [
      "[[[[0.24375812 0.61747072 0.46444513]\n",
      "   [0.28663882 0.41060585 0.89440892]\n",
      "   [0.12632358 0.86312665 0.6259602 ]]\n",
      "\n",
      "  [[0.21485133 0.62022648 0.22764033]\n",
      "   [0.98770327 0.2240247  0.29417612]\n",
      "   [0.86213348 0.19602761 0.43942599]]\n",
      "\n",
      "  [[0.60355681 0.03805721 0.49436775]\n",
      "   [0.20553599 0.39615023 0.92538877]\n",
      "   [0.8092647  0.01797288 0.64700005]]]\n",
      "\n",
      "\n",
      " [[[0.73257939 0.27971905 0.13453641]\n",
      "   [0.77371905 0.96489239 0.75358856]\n",
      "   [0.56035479 0.15894443 0.46592117]]\n",
      "\n",
      "  [[0.60363234 0.52113476 0.13552323]\n",
      "   [0.5513461  0.8759515  0.31199434]\n",
      "   [0.58786702 0.86333423 0.51967169]]\n",
      "\n",
      "  [[0.01622035 0.65781485 0.25782363]\n",
      "   [0.08154795 0.96459992 0.27999678]\n",
      "   [0.99386064 0.51226028 0.10383634]]]\n",
      "\n",
      "\n",
      " [[[0.95071145 0.72681171 0.58727367]\n",
      "   [0.51277627 0.59743386 0.81523495]\n",
      "   [0.46917803 0.56936132 0.93412566]]\n",
      "\n",
      "  [[0.19460848 0.04932025 0.38741001]\n",
      "   [0.45847287 0.76438949 0.43043485]\n",
      "   [0.57817093 0.8746472  0.51951572]]\n",
      "\n",
      "  [[0.17114102 0.10889614 0.0772362 ]\n",
      "   [0.526377   0.10360554 0.15813643]\n",
      "   [0.45067482 0.99598369 0.44426245]]]]\n"
     ]
    }
   ],
   "source": [
    "import numpy as np\n",
    "\n",
    "# Create a 3x3x3x array with random values between 0 and 1\n",
    "random_array = np.random.rand(3, 3, 3, 3)\n",
    "\n",
    "print(random_array)\n"
   ]
  },
  {
   "cell_type": "markdown",
   "id": "c4a1ace0",
   "metadata": {},
   "source": [
    "# 2.Create a 5x5 matrix with values 1,2,3,4 just below the diagonal."
   ]
  },
  {
   "cell_type": "code",
   "execution_count": 2,
   "id": "262182ab",
   "metadata": {},
   "outputs": [
    {
     "name": "stdout",
     "output_type": "stream",
     "text": [
      "[[0. 0. 0. 0. 0.]\n",
      " [1. 0. 0. 0. 0.]\n",
      " [0. 2. 0. 0. 0.]\n",
      " [0. 0. 3. 0. 0.]\n",
      " [0. 0. 0. 4. 0.]]\n"
     ]
    }
   ],
   "source": [
    "import numpy as np\n",
    "\n",
    "# Create a 5x5 matrix filled with zeros\n",
    "matrix = np.zeros((5, 5))\n",
    "\n",
    "# Fill the values just below the diagonal\n",
    "values = [1, 2, 3, 4]\n",
    "for i in range(1, 5):\n",
    "    matrix[i, i-1] = values[i-1]\n",
    "\n",
    "print(matrix)\n"
   ]
  },
  {
   "cell_type": "markdown",
   "id": "73f034c9",
   "metadata": {},
   "source": [
    "# 3.Create a 8x8 matrix and fill it with a checkerboard  pattern."
   ]
  },
  {
   "cell_type": "code",
   "execution_count": 3,
   "id": "54a7cd6a",
   "metadata": {},
   "outputs": [
    {
     "name": "stdout",
     "output_type": "stream",
     "text": [
      "[[0 1 0 1 0 1 0 1]\n",
      " [1 0 1 0 1 0 1 0]\n",
      " [0 1 0 1 0 1 0 1]\n",
      " [1 0 1 0 1 0 1 0]\n",
      " [0 1 0 1 0 1 0 1]\n",
      " [1 0 1 0 1 0 1 0]\n",
      " [0 1 0 1 0 1 0 1]\n",
      " [1 0 1 0 1 0 1 0]]\n"
     ]
    }
   ],
   "source": [
    "import numpy as np\n",
    "\n",
    "# Create an 8x8 matrix filled with zeros\n",
    "matrix = np.zeros((8, 8), dtype=int)\n",
    "\n",
    "# Fill the checkerboard pattern\n",
    "matrix[1::2, ::2] = 1  # Odd rows, even columns\n",
    "matrix[::2, 1::2] = 1  # Even rows, odd columns\n",
    "\n",
    "# Print the checkerboard matrix\n",
    "print(matrix)\n"
   ]
  },
  {
   "cell_type": "markdown",
   "id": "69473f6f",
   "metadata": {},
   "source": [
    "# 4.Normalize a 5x5 random matrix"
   ]
  },
  {
   "cell_type": "code",
   "execution_count": 4,
   "id": "5bdf324a",
   "metadata": {},
   "outputs": [
    {
     "name": "stdout",
     "output_type": "stream",
     "text": [
      "Original 5x5 Random Matrix:\n",
      "[[0.76155892 0.80597544 0.52075984 0.7527638  0.88011046]\n",
      " [0.03022267 0.16977254 0.72490819 0.36273461 0.08749168]\n",
      " [0.8530923  0.49164901 0.5066192  0.87796735 0.54339729]\n",
      " [0.5224893  0.16464638 0.74660952 0.62620142 0.7705968 ]\n",
      " [0.9279484  0.64531839 0.87271717 0.6140097  0.98173094]]\n",
      "\n",
      "Normalized 5x5 Matrix:\n",
      "[[0.76860735 0.81528747 0.51553642 0.75936401 0.89320063]\n",
      " [0.         0.14666175 0.7300888  0.34945775 0.06018761]\n",
      " [0.86480555 0.48494201 0.50067513 0.89094831 0.53932755]\n",
      " [0.51735403 0.14127435 0.75289608 0.62635162 0.77810583]\n",
      " [0.94347655 0.64644286 0.88543057 0.61353858 1.        ]]\n"
     ]
    }
   ],
   "source": [
    "import numpy as np\n",
    "\n",
    "# Create a 5x5 random matrix\n",
    "random_matrix = np.random.rand(5, 5)\n",
    "\n",
    "# Calculate the minimum and maximum values in the matrix\n",
    "min_value = np.min(random_matrix)\n",
    "max_value = np.max(random_matrix)\n",
    "\n",
    "# Normalize the matrix\n",
    "normalized_matrix = (random_matrix - min_value) / (max_value - min_value)\n",
    "\n",
    "# Print the original and normalized matrices\n",
    "print(\"Original 5x5 Random Matrix:\")\n",
    "print(random_matrix)\n",
    "print(\"\\nNormalized 5x5 Matrix:\")\n",
    "print(normalized_matrix)\n"
   ]
  },
  {
   "cell_type": "markdown",
   "id": "17fff1be",
   "metadata": {},
   "source": [
    "# 5.How to find common values between two arrays"
   ]
  },
  {
   "cell_type": "code",
   "execution_count": 6,
   "id": "539ac5f0",
   "metadata": {},
   "outputs": [
    {
     "name": "stdout",
     "output_type": "stream",
     "text": [
      "[3, 4, 5]\n"
     ]
    }
   ],
   "source": [
    "array1 = [1, 2, 3, 4, 5]\n",
    "array2 = [3, 4, 5, 6, 7]\n",
    "\n",
    "set1 = set(array1)\n",
    "set2 = set(array2)\n",
    "\n",
    "common_values = set1.intersection(set2)\n",
    "\n",
    "print(list(common_values))  # Convert the result back to a list if needed\n"
   ]
  },
  {
   "cell_type": "code",
   "execution_count": 7,
   "id": "4610ccd2",
   "metadata": {},
   "outputs": [
    {
     "name": "stdout",
     "output_type": "stream",
     "text": [
      "[3 4 5]\n"
     ]
    }
   ],
   "source": [
    "import numpy as np\n",
    "\n",
    "array1 = np.array([1, 2, 3, 4, 5])\n",
    "array2 = np.array([3, 4, 5, 6, 7])\n",
    "\n",
    "common_values = np.intersect1d(array1, array2)\n",
    "\n",
    "print(common_values)\n"
   ]
  },
  {
   "cell_type": "markdown",
   "id": "9449d72a",
   "metadata": {},
   "source": [
    "# 6. How to get the dates of  yesterday,today and tomorrow ?"
   ]
  },
  {
   "cell_type": "code",
   "execution_count": 8,
   "id": "ddff34e0",
   "metadata": {},
   "outputs": [
    {
     "name": "stdout",
     "output_type": "stream",
     "text": [
      "Dates as NumPy array: [datetime.date(2023, 9, 20) datetime.date(2023, 9, 21)\n",
      " datetime.date(2023, 9, 22)]\n"
     ]
    }
   ],
   "source": [
    "import numpy as np\n",
    "from datetime import datetime, timedelta\n",
    "\n",
    "# Get today's date\n",
    "today = datetime.today().date()\n",
    "\n",
    "# Calculate yesterday and tomorrow\n",
    "yesterday = today - timedelta(days=1)\n",
    "tomorrow = today + timedelta(days=1)\n",
    "\n",
    "# Create a NumPy array from the dates\n",
    "dates = np.array([yesterday, today, tomorrow])\n",
    "\n",
    "print(\"Dates as NumPy array:\", dates)"
   ]
  },
  {
   "cell_type": "markdown",
   "id": "6fcbd9b3",
   "metadata": {},
   "source": [
    "# 7.Consider two random arrays A and B, check if they are equal. "
   ]
  },
  {
   "cell_type": "code",
   "execution_count": 9,
   "id": "c1186077",
   "metadata": {},
   "outputs": [
    {
     "name": "stdout",
     "output_type": "stream",
     "text": [
      "Arrays A and B are equal.\n"
     ]
    }
   ],
   "source": [
    "import numpy as np\n",
    "\n",
    "# Create two random arrays A and B\n",
    "A = np.array([1, 2, 3])\n",
    "B = np.array([1, 2, 3])\n",
    "\n",
    "# Check if arrays A and B are equal\n",
    "if np.array_equal(A, B):\n",
    "    print(\"Arrays A and B are equal.\")\n",
    "else:\n",
    "    print(\"Arrays A and B are not equal.\")"
   ]
  },
  {
   "cell_type": "markdown",
   "id": "7d2be239",
   "metadata": {},
   "source": [
    "# 8.Create a random vector of size 10 and replace the maximum value by 0"
   ]
  },
  {
   "cell_type": "code",
   "execution_count": 12,
   "id": "b6fe0e6b",
   "metadata": {},
   "outputs": [
    {
     "name": "stdout",
     "output_type": "stream",
     "text": [
      "[0.40751485 0.92911462 0.3581821  0.30317678 0.92324312 0.89676187\n",
      " 0.42689144 0.45458651 0.10164563 0.        ]\n"
     ]
    }
   ],
   "source": [
    "import numpy as np\n",
    "\n",
    "# Generate a random vector of 10 values\n",
    "random_vector = np.random.rand(10)\n",
    "\n",
    "# Find the index of the maximum value\n",
    "max_index = np.argmax(random_vector)\n",
    "\n",
    "# Replace the maximum value with 0\n",
    "random_vector[max_index] = 0\n",
    "\n",
    "print(random_vector)\n"
   ]
  },
  {
   "cell_type": "markdown",
   "id": "18b94aa8",
   "metadata": {},
   "source": [
    "# 9. How to print all the values of an array"
   ]
  },
  {
   "cell_type": "code",
   "execution_count": 13,
   "id": "3aba9427",
   "metadata": {},
   "outputs": [
    {
     "name": "stdout",
     "output_type": "stream",
     "text": [
      "1\n",
      "2\n",
      "3\n",
      "4\n",
      "5\n",
      "6\n",
      "7\n",
      "8\n",
      "9\n"
     ]
    }
   ],
   "source": [
    "import numpy as np\n",
    "\n",
    "# Create a 2D NumPy array\n",
    "arr_2d = np.array([[1, 2, 3],\n",
    "                   [4, 5, 6],\n",
    "                   [7, 8, 9]])\n",
    "\n",
    "# Iterate through the rows and columns to print all values\n",
    "for row in arr_2d:\n",
    "    for val in row:\n",
    "        print(val)"
   ]
  },
  {
   "cell_type": "markdown",
   "id": "39b5fe3b",
   "metadata": {},
   "source": [
    "# 10. Subtract the mean of each row of a matrix."
   ]
  },
  {
   "cell_type": "code",
   "execution_count": 14,
   "id": "b950223d",
   "metadata": {},
   "outputs": [
    {
     "name": "stdout",
     "output_type": "stream",
     "text": [
      "Original Matrix:\n",
      "[[1 2 3]\n",
      " [4 5 6]\n",
      " [7 8 9]]\n",
      "\n",
      "Matrix with Row Means Subtracted:\n",
      "[[-1.  0.  1.]\n",
      " [-1.  0.  1.]\n",
      " [-1.  0.  1.]]\n"
     ]
    }
   ],
   "source": [
    "import numpy as np\n",
    "\n",
    "# Create a sample matrix (you can replace this with your own matrix)\n",
    "matrix = np.array([[1, 2, 3],\n",
    "                   [4, 5, 6],\n",
    "                   [7, 8, 9]])\n",
    "\n",
    "# Calculate the mean of each row\n",
    "row_means = np.mean(matrix, axis=1)\n",
    "\n",
    "# Subtract the mean of each row from the matrix\n",
    "normalized_matrix = matrix - row_means[:, np.newaxis]\n",
    "\n",
    "# Print the original matrix and the normalized matrix\n",
    "print(\"Original Matrix:\")\n",
    "print(matrix)\n",
    "\n",
    "print(\"\\nMatrix with Row Means Subtracted:\")\n",
    "print(normalized_matrix)\n"
   ]
  },
  {
   "cell_type": "markdown",
   "id": "567e62cb",
   "metadata": {},
   "source": [
    "# 11. Consider a given vector, how to add 1 to each element indexed by a second vector(be careful with repeated indices)?"
   ]
  },
  {
   "cell_type": "code",
   "execution_count": 15,
   "id": "d462b78e",
   "metadata": {},
   "outputs": [
    {
     "name": "stdout",
     "output_type": "stream",
     "text": [
      "[10 21 31 41 50]\n"
     ]
    }
   ],
   "source": [
    "import numpy as np\n",
    "\n",
    "# Given vector\n",
    "vector = np.array([10, 20, 30, 40, 50])\n",
    "\n",
    "# Second vector with indices to update\n",
    "indices = np.array([1, 3, 2, 3])\n",
    "\n",
    "# Make sure indices are unique (remove duplicates)\n",
    "unique_indices = np.unique(indices)\n",
    "\n",
    "# Add 1 to the elements at the specified unique indices\n",
    "vector[unique_indices] += 1\n",
    "\n",
    "# Print the updated vector\n",
    "print(vector)\n"
   ]
  },
  {
   "cell_type": "markdown",
   "id": "fe1ffc03",
   "metadata": {},
   "source": [
    "# 12.How to get the diagonal of a dot product?"
   ]
  },
  {
   "cell_type": "code",
   "execution_count": 16,
   "id": "cf78ad9b",
   "metadata": {},
   "outputs": [
    {
     "name": "stdout",
     "output_type": "stream",
     "text": [
      "[30 69 90]\n"
     ]
    }
   ],
   "source": [
    "import numpy as np\n",
    "\n",
    "# Create two matrices (replace these with your own matrices)\n",
    "matrix1 = np.array([[1, 2, 3],\n",
    "                    [4, 5, 6],\n",
    "                    [7, 8, 9]])\n",
    "\n",
    "matrix2 = np.array([[9, 8, 7],\n",
    "                    [6, 5, 4],\n",
    "                    [3, 2, 1]])\n",
    "\n",
    "# Compute the dot product of the two matrices\n",
    "dot_product = np.dot(matrix1, matrix2)\n",
    "\n",
    "# Get the diagonal elements of the dot product matrix\n",
    "diagonal_elements = np.diag(dot_product)\n",
    "\n",
    "# Print the diagonal elements\n",
    "print(diagonal_elements)\n"
   ]
  },
  {
   "cell_type": "markdown",
   "id": "469d53d9",
   "metadata": {},
   "source": [
    "# 13. How to find the most frequent value in an array?"
   ]
  },
  {
   "cell_type": "code",
   "execution_count": 19,
   "id": "575ef07e",
   "metadata": {},
   "outputs": [
    {
     "name": "stdout",
     "output_type": "stream",
     "text": [
      "The most frequent value is 4 with 4 occurrences.\n"
     ]
    }
   ],
   "source": [
    "import numpy as np\n",
    "\n",
    "# Sample array\n",
    "my_array = np.array([1, 2, 2, 3, 3, 3, 4, 4, 4, 4, 5])\n",
    "\n",
    "# Use the `unique` function to get unique values and their counts\n",
    "unique_values, counts = np.unique(my_array, return_counts=True)\n",
    "\n",
    "# Find the index of the maximum count, which corresponds to the most frequent value\n",
    "most_frequent_index = np.argmax(counts)\n",
    "\n",
    "# Get the most frequent value\n",
    "most_frequent_value = unique_values[most_frequent_index]\n",
    "\n",
    "print(f\"The most frequent value is {most_frequent_value} with {counts[most_frequent_index]} occurrences.\")\n"
   ]
  },
  {
   "cell_type": "markdown",
   "id": "55a39325",
   "metadata": {},
   "source": [
    "# 14.How to get the n-largest values of an array?"
   ]
  },
  {
   "cell_type": "code",
   "execution_count": 20,
   "id": "2f76a611",
   "metadata": {},
   "outputs": [
    {
     "name": "stdout",
     "output_type": "stream",
     "text": [
      "[5 7 8]\n"
     ]
    }
   ],
   "source": [
    "import numpy as np\n",
    "\n",
    "# Create an example array\n",
    "arr = np.array([5, 2, 8, 1, 7, 3])\n",
    "\n",
    "# Set the value of 'n' to get the n-largest values\n",
    "n = 3\n",
    "\n",
    "# Use partition to get the n-largest values\n",
    "n_largest = np.partition(arr, -n)[-n:]\n",
    "\n",
    "print(n_largest)\n"
   ]
  },
  {
   "cell_type": "markdown",
   "id": "e7749a2a",
   "metadata": {},
   "source": [
    "# 15.How to Create a Record Array from a Regular Array?"
   ]
  },
  {
   "cell_type": "code",
   "execution_count": 21,
   "id": "b40e86e1",
   "metadata": {},
   "outputs": [
    {
     "name": "stdout",
     "output_type": "stream",
     "text": [
      "Record Array:\n",
      "[(1,) (2,) (3,) (4,) (5,)]\n",
      "Accessing 'my_column': [1 2 3 4 5]\n"
     ]
    }
   ],
   "source": [
    "import numpy as np\n",
    "\n",
    "# Create a regular NumPy array\n",
    "regular_array = np.array([1, 2, 3, 4, 5])\n",
    "\n",
    "# Create a record array from the regular array\n",
    "record_array = np.rec.array(regular_array, dtype=[('my_column', int)])\n",
    "\n",
    "# Access data using column names\n",
    "print(\"Record Array:\")\n",
    "print(record_array)\n",
    "print(\"Accessing 'my_column':\", record_array.my_column)"
   ]
  },
  {
   "cell_type": "markdown",
   "id": "35180131",
   "metadata": {},
   "source": [
    "# 16.How to swap two rows of an array ?"
   ]
  },
  {
   "cell_type": "code",
   "execution_count": 22,
   "id": "029e3191",
   "metadata": {},
   "outputs": [
    {
     "name": "stdout",
     "output_type": "stream",
     "text": [
      "[[7 8 9]\n",
      " [4 5 6]\n",
      " [1 2 3]]\n"
     ]
    }
   ],
   "source": [
    "import numpy as np\n",
    "\n",
    "# Create a sample 2D NumPy array\n",
    "array = np.array([[1, 2, 3],\n",
    "                  [4, 5, 6],\n",
    "                  [7, 8, 9]])\n",
    "\n",
    "# Swap rows (for example, swapping rows 0 and 2)\n",
    "array[[0, 2]] = array[[2, 0]]\n",
    "\n",
    "# Now, 'array' will have rows 0 and 2 swapped\n",
    "print(array)"
   ]
  },
  {
   "cell_type": "markdown",
   "id": "23166a7d",
   "metadata": {},
   "source": [
    "# 17.Write Python code to reshape to the next dimension of numPy array."
   ]
  },
  {
   "cell_type": "code",
   "execution_count": 23,
   "id": "5566695f",
   "metadata": {},
   "outputs": [
    {
     "name": "stdout",
     "output_type": "stream",
     "text": [
      "Original Array:\n",
      "[[1 2]\n",
      " [3 4]\n",
      " [5 6]]\n",
      "\n",
      "Reshaped Array:\n",
      "[[1 2 3]\n",
      " [4 5 6]]\n"
     ]
    }
   ],
   "source": [
    "import numpy as np\n",
    "\n",
    "# Create a NumPy array\n",
    "original_array = np.array([[1, 2], [3, 4], [5, 6]])\n",
    "\n",
    "# Reshape the array to the next dimension\n",
    "reshaped_array = original_array.reshape(-1, original_array.shape[0])\n",
    "\n",
    "# Print the original and reshaped arrays\n",
    "print(\"Original Array:\")\n",
    "print(original_array)\n",
    "\n",
    "print(\"\\nReshaped Array:\")\n",
    "print(reshaped_array)\n"
   ]
  }
 ],
 "metadata": {
  "kernelspec": {
   "display_name": "Python 3 (ipykernel)",
   "language": "python",
   "name": "python3"
  },
  "language_info": {
   "codemirror_mode": {
    "name": "ipython",
    "version": 3
   },
   "file_extension": ".py",
   "mimetype": "text/x-python",
   "name": "python",
   "nbconvert_exporter": "python",
   "pygments_lexer": "ipython3",
   "version": "3.11.4"
  }
 },
 "nbformat": 4,
 "nbformat_minor": 5
}
