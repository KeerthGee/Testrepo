{
 "cells": [
  {
   "cell_type": "markdown",
   "id": "30eb09ea",
   "metadata": {},
   "source": [
    "# Functions:"
   ]
  },
  {
   "cell_type": "markdown",
   "id": "6381e538",
   "metadata": {},
   "source": [
    "# 1. Write a python Function to list even and odd numbers in a list."
   ]
  },
  {
   "cell_type": "code",
   "execution_count": 14,
   "id": "c9983c59",
   "metadata": {},
   "outputs": [
    {
     "name": "stdout",
     "output_type": "stream",
     "text": [
      "Even numbers: [2, 4, 6, 8, 10]\n",
      "Odd numbers: [1, 3, 5, 7, 9]\n"
     ]
    }
   ],
   "source": [
    "def separate_even_odd_numbers(numbers):\n",
    "    even_numbers = []\n",
    "    odd_numbers = []\n",
    "    for number in numbers:\n",
    "        if number % 2 == 0:\n",
    "            even_numbers.append(number)\n",
    "        else:\n",
    "            odd_numbers.append(number)\n",
    "    return even_numbers, odd_numbers\n",
    "numbers = [1, 2, 3, 4, 5, 6, 7, 8, 9, 10]\n",
    "even, odd = separate_even_odd_numbers(numbers)\n",
    "\n",
    "print(\"Even numbers:\", even)\n",
    "print(\"Odd numbers:\", odd)"
   ]
  },
  {
   "cell_type": "markdown",
   "id": "8178ccf8",
   "metadata": {},
   "source": [
    "# 2.Write and run a Python program that asks the user to enter 8 integers (one at a time), and then prints out how many of those integers were even numbers. For example, if the user entered 19, 6, 9, 20, 13, 7, 6, and 1, then your program should print out 3 since 3 of those numbers were even.\n"
   ]
  },
  {
   "cell_type": "code",
   "execution_count": 15,
   "id": "3e149fb9",
   "metadata": {},
   "outputs": [
    {
     "name": "stdout",
     "output_type": "stream",
     "text": [
      "Enter integer 1: 19\n",
      "Enter integer 2: 6\n",
      "Enter integer 3: 9\n",
      "Enter integer 4: 20\n",
      "Enter integer 5: 13\n",
      "Enter integer 6: 7\n",
      "Enter integer 7: 6\n",
      "Enter integer 8: 1\n",
      "Number of even numbers entered: 3\n"
     ]
    }
   ],
   "source": [
    "even_count = 0\n",
    "for i in range(8):\n",
    "    user_input = int(input(f\"Enter integer {i + 1}: \"))\n",
    "    if user_input % 2 == 0:\n",
    "        even_count += 1\n",
    "print(f\"Number of even numbers entered: {even_count}\")"
   ]
  },
  {
   "cell_type": "markdown",
   "id": "b2b0da29",
   "metadata": {},
   "source": [
    "# 3. Write a Python program where you take any positive integer n, if n is even, divide it by 2 to get n/ 2. If n is odd, multiply it by 3 and add 1 to obtain 3n+ 1. Repeat the process until you reach 1.\n"
   ]
  },
  {
   "cell_type": "code",
   "execution_count": 12,
   "id": "3cb4a72b",
   "metadata": {},
   "outputs": [
    {
     "name": "stdout",
     "output_type": "stream",
     "text": [
      "Enter a positive integer: 8\n",
      "8 4 2 1\n"
     ]
    }
   ],
   "source": [
    "def collatz_sequence(n):\n",
    "    while n != 1:\n",
    "        print(n, end=' ')  \n",
    "        if n % 2 == 0:\n",
    "            n = n // 2\n",
    "        else:\n",
    "            n = 3 * n + 1\n",
    "    print(1)  \n",
    "try:\n",
    "    n = int(input(\"Enter a positive integer: \"))\n",
    "    if n <= 0:\n",
    "        print(\"Please enter a positive integer greater than 0.\")\n",
    "    else:\n",
    "        collatz_sequence(n)\n",
    "except ValueError:\n",
    "    print(\"Invalid input. Please enter a positive integer.\")"
   ]
  },
  {
   "cell_type": "markdown",
   "id": "af8e1566",
   "metadata": {},
   "source": [
    "# 4. Write a Python program to compute the sum of all the multiples of 3 or 5 below 500."
   ]
  },
  {
   "cell_type": "code",
   "execution_count": 7,
   "id": "905dec2a",
   "metadata": {},
   "outputs": [
    {
     "name": "stdout",
     "output_type": "stream",
     "text": [
      "The sum of all multiples of 3 or 5 below 500 is: 57918\n"
     ]
    }
   ],
   "source": [
    "total_sum = 0\n",
    "for num in range(1, 500):\n",
    "    if num % 3 == 0 or num % 5 == 0:\n",
    "        total_sum += num\n",
    "print(\"The sum of all multiples of 3 or 5 below 500 is:\", total_sum)"
   ]
  },
  {
   "cell_type": "markdown",
   "id": "ce1f5199",
   "metadata": {},
   "source": [
    "# 5.To write a Python program to find first 'n' prime numbers from a list of given numbers."
   ]
  },
  {
   "cell_type": "code",
   "execution_count": 34,
   "id": "8a2bff6a",
   "metadata": {},
   "outputs": [
    {
     "name": "stdout",
     "output_type": "stream",
     "text": [
      "The first 5 prime numbers from the given list are: [2, 3, 5, 7, 11]\n"
     ]
    }
   ],
   "source": [
    "def is_prime(num):\n",
    "    # Check if a number is prime\n",
    "    if num <= 1:\n",
    "        return False\n",
    "    elif num == 2:\n",
    "        return True\n",
    "    elif num % 2 == 0:\n",
    "        return False\n",
    "    else:\n",
    "        # Check for factors up to the square root of the number\n",
    "        for i in range(3, int(num**0.5) + 1, 2):\n",
    "            if num % i == 0:\n",
    "                return False\n",
    "        return True\n",
    "\n",
    "def find_first_n_primes(numbers, n):\n",
    "    prime_numbers = []\n",
    "    for num in numbers:\n",
    "        if is_prime(num):\n",
    "            prime_numbers.append(num)\n",
    "            if len(prime_numbers) == n:\n",
    "                break\n",
    "    return prime_numbers\n",
    "given_numbers = [2, 3, 5, 7, 11, 13, 17, 19, 23, 29, 31]\n",
    "n = 5  # Find the first 5 prime numbers\n",
    "prime_list = find_first_n_primes(given_numbers, n)\n",
    "print(f\"The first {n} prime numbers from the given list are: {prime_list}\")"
   ]
  },
  {
   "cell_type": "markdown",
   "id": "ef9a7bb9",
   "metadata": {},
   "source": [
    "# 6. To write a Python program to compute matrix multiplication."
   ]
  },
  {
   "cell_type": "code",
   "execution_count": 36,
   "id": "809402b7",
   "metadata": {},
   "outputs": [
    {
     "name": "stdout",
     "output_type": "stream",
     "text": [
      "Result of matrix multiplication:\n",
      "[58, 64]\n",
      "[139, 154]\n"
     ]
    }
   ],
   "source": [
    "def matrix_multiply(A, B):\n",
    "    # Get the number of rows and columns for matrices A and B\n",
    "    rows_A = len(A)\n",
    "    cols_A = len(A[0])\n",
    "    rows_B = len(B)\n",
    "    cols_B = len(B[0])\n",
    "\n",
    "    # Check if the matrices can be multiplied\n",
    "    if cols_A != rows_B:\n",
    "        print(\"Matrix multiplication is not possible. The number of columns in A must be equal to the number of rows in B.\")\n",
    "        return None\n",
    "\n",
    "    # Initialize the result matrix with zeros\n",
    "    result = [[0 for _ in range(cols_B)] for _ in range(rows_A)]\n",
    "\n",
    "    # Perform matrix multiplication\n",
    "    for i in range(rows_A):\n",
    "        for j in range(cols_B):\n",
    "            for k in range(cols_A):\n",
    "                result[i][j] += A[i][k] * B[k][j]\n",
    "\n",
    "    return result\n",
    "\n",
    "# Example matrices\n",
    "matrix_A = [\n",
    "    [1, 2, 3],\n",
    "    [4, 5, 6],\n",
    "]\n",
    "\n",
    "matrix_B = [\n",
    "    [7, 8],\n",
    "    [9, 10],\n",
    "    [11, 12],\n",
    "]\n",
    "\n",
    "# Perform matrix multiplication\n",
    "result_matrix = matrix_multiply(matrix_A, matrix_B)\n",
    "\n",
    "# Display the result matrix\n",
    "if result_matrix:\n",
    "    print(\"Result of matrix multiplication:\")\n",
    "    for row in result_matrix:\n",
    "        print(row)\n"
   ]
  },
  {
   "cell_type": "markdown",
   "id": "7d77be21",
   "metadata": {},
   "source": [
    "# 7. Write a python Function to count the number of vowels in a string."
   ]
  },
  {
   "cell_type": "code",
   "execution_count": 37,
   "id": "80f0073e",
   "metadata": {},
   "outputs": [
    {
     "name": "stdout",
     "output_type": "stream",
     "text": [
      "The number of vowels in the string is: 3\n"
     ]
    }
   ],
   "source": [
    "def count_vowels(string):\n",
    "    \n",
    "    string = string.lower()\n",
    "    vowels = set(\"aeiou\")\n",
    "    count = 0\n",
    "    for char in string:\n",
    "        if char in vowels:\n",
    "            count += 1\n",
    "    \n",
    "    return count\n",
    "\n",
    "input_string = \"Hello, World!\"\n",
    "vowel_count = count_vowels(input_string)\n",
    "print(f\"The number of vowels in the string is: {vowel_count}\")"
   ]
  },
  {
   "cell_type": "markdown",
   "id": "6eeeda31",
   "metadata": {},
   "source": [
    "# 8.Write a python Function for finding factorial for the given number using a recursive function."
   ]
  },
  {
   "cell_type": "code",
   "execution_count": 16,
   "id": "dec2f2f3",
   "metadata": {},
   "outputs": [
    {
     "name": "stdout",
     "output_type": "stream",
     "text": [
      "The factorial of 5 is 120\n"
     ]
    }
   ],
   "source": [
    "def factorial_recursive(n):\n",
    "    if n == 0 or n == 1:\n",
    "        return 1\n",
    "    else:\n",
    "        return n * factorial_recursive(n - 1)\n",
    "\n",
    "number = 5  \n",
    "result = factorial_recursive(number)\n",
    "print(f\"The factorial of {number} is {result}\")"
   ]
  },
  {
   "cell_type": "markdown",
   "id": "6cbac6b1",
   "metadata": {},
   "source": [
    "# 9. Write a python Function for generating the Fibonacci series using the function."
   ]
  },
  {
   "cell_type": "code",
   "execution_count": 17,
   "id": "a55d59c7",
   "metadata": {},
   "outputs": [
    {
     "name": "stdout",
     "output_type": "stream",
     "text": [
      "Fibonacci Series:\n",
      "[0, 1, 1, 2, 3, 5, 8, 13, 21, 34]\n"
     ]
    }
   ],
   "source": [
    "def generate_fibonacci_series(n):\n",
    "    fibonacci_series = [0, 1]\n",
    "    while len(fibonacci_series) < n:\n",
    "        next_term = fibonacci_series[-1] + fibonacci_series[-2]\n",
    "        fibonacci_series.append(next_term)\n",
    "    return fibonacci_series\n",
    "num_terms = 10\n",
    "fib_series = generate_fibonacci_series(num_terms)\n",
    "print(\"Fibonacci Series:\")\n",
    "print(fib_series)"
   ]
  },
  {
   "cell_type": "markdown",
   "id": "edf162ae",
   "metadata": {},
   "source": [
    "# 10.Python program to display the given integer in reverse order using the function without an in-built function."
   ]
  },
  {
   "cell_type": "code",
   "execution_count": 1,
   "id": "a064ee1c",
   "metadata": {},
   "outputs": [
    {
     "name": "stdout",
     "output_type": "stream",
     "text": [
      "Enter an integer: 8\n",
      "Reversed integer: 8\n"
     ]
    }
   ],
   "source": [
    "def reverse_integer(number):\n",
    "    if number < 0:\n",
    "        sign = \"-\"\n",
    "        number = -number\n",
    "    else:\n",
    "        sign = \"\"\n",
    "    number_str = str(number)\n",
    "    reversed_str = number_str[::-1]\n",
    "    reversed_number_str = sign + reversed_str\n",
    "\n",
    "    return int(reversed_number_str)\n",
    "\n",
    "input_number = int(input(\"Enter an integer: \"))\n",
    "reversed_number = reverse_integer(input_number)\n",
    "\n",
    "print(\"Reversed integer:\", reversed_number)"
   ]
  },
  {
   "cell_type": "markdown",
   "id": "6f7b053a",
   "metadata": {},
   "source": [
    "# 11. Write a Python Function to display all integers within the range 200-300 whose sum of digits is an even number."
   ]
  },
  {
   "cell_type": "code",
   "execution_count": 32,
   "id": "4a7c6fc6",
   "metadata": {},
   "outputs": [
    {
     "name": "stdout",
     "output_type": "stream",
     "text": [
      "Integers in the range 200 to 300 with an even sum of digits:\n",
      "[200, 202, 204, 206, 208, 211, 213, 215, 217, 219, 220, 222, 224, 226, 228, 231, 233, 235, 237, 239, 240, 242, 244, 246, 248, 251, 253, 255, 257, 259, 260, 262, 264, 266, 268, 271, 273, 275, 277, 279, 280, 282, 284, 286, 288, 291, 293, 295, 297, 299]\n"
     ]
    }
   ],
   "source": [
    "def sum_of_digits_even(number):\n",
    "    # Calculate the sum of digits\n",
    "    digit_sum = sum(int(digit) for digit in str(number))\n",
    "    \n",
    "    # Check if the sum of digits is even\n",
    "    return digit_sum % 2 == 0\n",
    "\n",
    "def integers_with_even_digit_sum(start, end):\n",
    "    result = []\n",
    "    for num in range(start, end + 1):\n",
    "        if sum_of_digits_even(num):\n",
    "            result.append(num)\n",
    "    return result\n",
    "\n",
    "start_range = 200\n",
    "end_range = 300\n",
    "\n",
    "result_numbers = integers_with_even_digit_sum(start_range, end_range)\n",
    "\n",
    "print(\"Integers in the range\", start_range, \"to\", end_range, \"with an even sum of digits:\")\n",
    "print(result_numbers)"
   ]
  },
  {
   "cell_type": "markdown",
   "id": "5b318797",
   "metadata": {},
   "source": [
    "# 12. Write a python Function to find the number of digits and sum of digits for a given integer."
   ]
  },
  {
   "cell_type": "code",
   "execution_count": 30,
   "id": "bc0fc226",
   "metadata": {},
   "outputs": [
    {
     "name": "stdout",
     "output_type": "stream",
     "text": [
      "Number of digits: 5\n",
      "Sum of digits: 15\n"
     ]
    }
   ],
   "source": [
    "def count_digits_and_sum(number):\n",
    "   \n",
    "    num_digits = 0\n",
    "    digit_sum = 0\n",
    "    \n",
    "   \n",
    "    if number < 0:\n",
    "        number = abs(number)\n",
    "    \n",
    "    while number > 0:\n",
    "        digit = number % 10\n",
    "        digit_sum += digit\n",
    "        number = number // 10\n",
    "        num_digits += 1\n",
    "    \n",
    "    return num_digits, digit_sum\n",
    "\n",
    "input_number = 12345\n",
    "num_digits, digit_sum = count_digits_and_sum(input_number)\n",
    "print(f\"Number of digits: {num_digits}\")\n",
    "print(f\"Sum of digits: {digit_sum}\")\n"
   ]
  },
  {
   "cell_type": "markdown",
   "id": "a7f406df",
   "metadata": {},
   "source": [
    "# 13.Write functions called is_sorted that takes a list as a parameter and returns True if the list is sorted in ascending order and False otherwise and has_ duplicates that takes a list and returns True if there is any element that appears more than once. It should not modify the original list."
   ]
  },
  {
   "cell_type": "code",
   "execution_count": 27,
   "id": "7ef0a5e9",
   "metadata": {},
   "outputs": [
    {
     "name": "stdout",
     "output_type": "stream",
     "text": [
      "Is the list sorted in ascending order? True\n",
      "Does the list have duplicates? True\n"
     ]
    }
   ],
   "source": [
    "def is_sorted(arr):\n",
    "    \n",
    "    sorted_arr = sorted(arr)\n",
    "    \n",
    "   \n",
    "    return arr == sorted_arr\n",
    "\n",
    "def has_duplicates(arr):\n",
    "    \n",
    "    seen = set()\n",
    "    \n",
    "   \n",
    "    for item in arr:\n",
    "        if item in seen:\n",
    "            return True\n",
    "        seen.add(item) \n",
    "    \n",
    "    return False\n",
    "\n",
    "my_list = [1, 2, 3, 3, 4, 5]\n",
    "sorted_result = is_sorted(my_list)\n",
    "duplicates_result = has_duplicates(my_list)\n",
    "print(\"Is the list sorted in ascending order?\", sorted_result)\n",
    "print(\"Does the list have duplicates?\", duplicates_result)"
   ]
  },
  {
   "cell_type": "markdown",
   "id": "889775f8",
   "metadata": {},
   "source": [
    "# 14. Write functions called nested sum that takes a list of integers and adds up the elements from all the nested lists and cumsum that takes a list of numbers and returns the cumulative sum; that is, a new list where the ith element is the sum of the first i + 1 elements from the original list."
   ]
  },
  {
   "cell_type": "code",
   "execution_count": 20,
   "id": "bce5805a",
   "metadata": {},
   "outputs": [
    {
     "name": "stdout",
     "output_type": "stream",
     "text": [
      "Sum of all elements in the nested list: 45\n"
     ]
    }
   ],
   "source": [
    "#nested_sum takes a list of integers and adds up the elements from all the nested lists:\n",
    "\n",
    "def nested_sum(lst):\n",
    "    total = 0\n",
    "    for element in lst:\n",
    "        if isinstance(element, list):\n",
    "            total += nested_sum(element)  # Recursively add elements from nested list\n",
    "        else:\n",
    "            total += element\n",
    "    return total\n",
    "\n",
    "nested_list = [1, 2, [3, 4, [5, 6]], 7, [8, 9]]\n",
    "result = nested_sum(nested_list)\n",
    "print(\"Sum of all elements in the nested list:\", result)"
   ]
  },
  {
   "cell_type": "code",
   "execution_count": 21,
   "id": "67a7441b",
   "metadata": {},
   "outputs": [
    {
     "name": "stdout",
     "output_type": "stream",
     "text": [
      "Cumulative sum list: [1, 3, 6, 10, 15]\n"
     ]
    }
   ],
   "source": [
    "#cumsum takes a list of numbers and returns:\n",
    "\n",
    "def cumsum(lst):\n",
    "    cumulative_sum = []\n",
    "    current_sum = 0\n",
    "    for num in lst:\n",
    "        current_sum += num\n",
    "        cumulative_sum.append(current_sum)\n",
    "    return cumulative_sum\n",
    "\n",
    "original_list = [1, 2, 3, 4, 5]\n",
    "result = cumsum(original_list)\n",
    "print(\"Cumulative sum list:\", result)"
   ]
  }
 ],
 "metadata": {
  "kernelspec": {
   "display_name": "Python 3 (ipykernel)",
   "language": "python",
   "name": "python3"
  },
  "language_info": {
   "codemirror_mode": {
    "name": "ipython",
    "version": 3
   },
   "file_extension": ".py",
   "mimetype": "text/x-python",
   "name": "python",
   "nbconvert_exporter": "python",
   "pygments_lexer": "ipython3",
   "version": "3.11.4"
  }
 },
 "nbformat": 4,
 "nbformat_minor": 5
}
